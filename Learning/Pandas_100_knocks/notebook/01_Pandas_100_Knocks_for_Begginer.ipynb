{
    "cells": [
        {
            "cell_type": "markdown",
            "metadata": {},
            "source": "# \u521d\u5b66\u8005\u5411\u3051Pandas100\u672c\u30ce\u30c3\u30afver1.0.7\n##### Shift + Enter \u3067\u5404\u30bb\u30eb\u306e\u30b3\u30fc\u30c9\u304c\u5b9f\u884c\u3055\u308c\u307e\u3059\n\u30fbprint(ans[ \u554f\u984c\u756a\u53f7 ]) \u3067\u56de\u7b54\u30b3\u30fc\u30c9\u4f8b\u3092\u8868\u793a  \n\u30fbPython3\u30a8\u30f3\u30b8\u30cb\u30a2\u8a8d\u5b9a\u30c7\u30fc\u30bf\u5206\u6790\u8a66\u9a13\u306b\u3082\u6cbf\u3063\u305f\u554f\u984c\u5185\u5bb9   \n\u30fbPandas\u306e\u5404\u30e1\u30bd\u30c3\u30c9\u306e\u8aac\u660e\u306f\u4ee5\u4e0b\u306e\u30b5\u30a4\u30c8\u304c\u5206\u304b\u308a\u3084\u3059\u3044\u3067\u3059  \n \u3000[note.nkmk.me](https://note.nkmk.me/pandas/)  \n\u30fb\"Data for Titanic passengers\" from [VANDERBILT UNIVERSITY](https://biostat.app.vumc.org/wiki/Main/DataSets)  \n  \n**\u672c\u30b3\u30f3\u30c6\u30f3\u30c4\u4f5c\u6210\u6642\u306epandas\u306e\u30d0\u30fc\u30b8\u30e7\u30f3\u306f1.1.0**\n  \n\u4f5c\u6210\u65e5:2020\u5e749\u670824\u65e5  \n\u6700\u7d42\u66f4\u65b0\u65e5:2023\u5e741\u670816\u65e5  \n\u518d\u914d\u5e03\u30fb\u6539\u7de8\u4e0d\u53ef  \n\u4f5c\u6210\u8005\uff1a[kunishou](https://qiita.com/kunishou)"
        },
        {
            "cell_type": "code",
            "execution_count": 2,
            "metadata": {
                "trusted": true
            },
            "outputs": [],
            "source": "# Shift + Enter\u3067\u984c\u6750\u30c7\u30fc\u30bf\u3001\u56de\u7b54\u30b3\u30fc\u30c9\u3092\u8aad\u307f\u8fbc\u3093\u3067\u4e0b\u3055\u3044\n\nimport pandas as pd\nimport glob\n\nfrom pandas.core.frame import signature\n\n#\u984c\u6750\u30c7\u30fc\u30bf\u3092df\u306b\u8aad\u307f\u8fbc\u307f(\u30bf\u30a4\u30bf\u30cb\u30c3\u30af\u53f7\u306e\u4e57\u5ba2\u30c7\u30fc\u30bf\u3001\u30c6\u30b9\u30c8\u306e\u70b9\u6570\u30c7\u30fc\u30bf \u7b49)\ndef initialize1():\n    df = pd.read_csv('../input/titanic3.csv')\n    return df\n\ndef initialize2():\n    df = pd.read_csv('../input/data1.csv')\n    return df\n\n#df = initialize1()\ndf = pd.read_csv('./titanic3.csv')"
        },
        {
            "cell_type": "code",
            "execution_count": 3,
            "metadata": {
                "trusted": true
            },
            "outputs": [],
            "source": "df2 = initialize2()\ndf3 = pd.read_csv('../input/data1_2.csv')\ndf4 = pd.read_csv('../input/data1_3.csv')\ndf5 = pd.read_csv('../input/data2.csv',encoding='cp932')\n\n#\u56de\u7b54\u30b3\u30fc\u30c9\u3092ans\u30ea\u30b9\u30c8\u306b\u683c\u7d0d\npath = sorted(glob.glob('../input/a_' + '*.txt'))\n\nans = []\n\nfor _ in range(len(path)):\n    with open(path[_], 'r',encoding='utf-8') as f:\n        ans.append(f.read())\n        \n#print(ans[0])"
        },
        {
            "cell_type": "markdown",
            "metadata": {},
            "source": "# Pandas\u57fa\u790e (1 - 13)"
        },
        {
            "cell_type": "code",
            "execution_count": 13,
            "metadata": {
                "trusted": true
            },
            "outputs": [
                {
                    "name": "stdout",
                    "output_type": "stream",
                    "text": "   pclass  survived                                             name     sex  \\\n0       1         1                    Allen, Miss. Elisabeth Walton  female   \n1       1         1                   Allison, Master. Hudson Trevor    male   \n2       1         0                     Allison, Miss. Helen Loraine  female   \n3       1         0             Allison, Mr. Hudson Joshua Creighton    male   \n4       1         0  Allison, Mrs. Hudson J C (Bessie Waldo Daniels)  female   \n\n     age  sibsp  parch  ticket      fare    cabin embarked boat   body  \\\n0  29.00      0      0   24160  211.3375       B5        S    2    NaN   \n1   0.92      1      2  113781  151.5500  C22 C26        S   11    NaN   \n2   2.00      1      2  113781  151.5500  C22 C26        S  NaN    NaN   \n3  30.00      1      2  113781  151.5500  C22 C26        S  NaN  135.0   \n4  25.00      1      2  113781  151.5500  C22 C26        S  NaN    NaN   \n\n                         home.dest  \n0                     St Louis, MO  \n1  Montreal, PQ / Chesterville, ON  \n2  Montreal, PQ / Chesterville, ON  \n3  Montreal, PQ / Chesterville, ON  \n4  Montreal, PQ / Chesterville, ON  \n[answer1]\n\ndf.head()\n\n\n[tips]\n.head()\u306f\u30c7\u30d5\u30a9\u30eb\u30c8\u3067\u5148\u982d5\u884c\u8868\u793a\n()\u306b\u8868\u793a\u3057\u305f\u3044\u884c\u6570\u3092\u5165\u308c\u308b\n\u5148\u982d10\u884c\u8868\u793a\u306f .head(10)\n"
                }
            ],
            "source": "# \u30101\u3011\n# df\u306b\u8aad\u307f\u8fbc\u3093\u3060\u30c7\u30fc\u30bf\u306e\u6700\u521d\u306e5\u884c\u3092\u8868\u793a\n#print(ans[1]) #\u56de\u7b54\u8868\u793a\ndf = initialize1() #\u521d\u671f\u5316\n\nprint(df.head(5))\n\nprint(ans[1])"
        },
        {
            "cell_type": "code",
            "execution_count": null,
            "metadata": {
                "trusted": true
            },
            "outputs": [],
            "source": "# \u30102\u3011\n# df\u306b\u8aad\u307f\u8fbc\u3093\u3060\u30c7\u30fc\u30bf\u306e\u6700\u5f8c\u306e5\u884c\u3092\u8868\u793a\n#print(ans[2]) #\u56de\u7b54\u8868\u793a\ndf = initialize1() #\u521d\u671f\u5316\n\n\nprint(df.tail(5))\n\nprint(ans[2])"
        },
        {
            "cell_type": "code",
            "execution_count": 15,
            "metadata": {
                "trusted": true
            },
            "outputs": [
                {
                    "name": "stdout",
                    "output_type": "stream",
                    "text": "[answer3]\n\ndf.shape\n"
                },
                {
                    "data": {
                        "text/plain": "(1309, 14)"
                    },
                    "execution_count": 15,
                    "metadata": {},
                    "output_type": "execute_result"
                }
            ],
            "source": "# \u30103\u3011\n# df\u306eDataFrame\u30b5\u30a4\u30ba\u3092\u78ba\u8a8d\nprint(ans[3]) #\u56de\u7b54\u8868\u793a\ndf = initialize1() #\u521d\u671f\u5316\n\ndf.shape"
        },
        {
            "cell_type": "code",
            "execution_count": 17,
            "metadata": {
                "trusted": true
            },
            "outputs": [
                {
                    "name": "stdout",
                    "output_type": "stream",
                    "text": "[answer4]\n\ndf2 = pd.read_csv('../input/data1.csv')\ndf2.head()\n\n\n[Tips]\n\u30fbcsv\u306e\u8aad\u307f\u8fbc\u307f\u306fread_csv\n\u30fb\u5fc5\u8981\u306b\u5fdc\u3058\u3066encoding=''\u3092\u6307\u5b9a\u3059\u308b\nutf-8\nshift_jis (\u65e5\u672c\u8a9e)\ncp932 (Windows\u62e1\u5f35\u6587\u5b57\u542b\u3080\u65e5\u672c\u8a9e)\n\nex)\ndf2 = pd.read_csv('../input/data1.csv',encoding='utf-8')\n"
                }
            ],
            "source": "# \u30104\u3011\n# input\u30d5\u30a9\u30eb\u30c0\u5185\u306edata1.csv\u30d5\u30a1\u30a4\u30eb\u3092\n# \u8aad\u307f\u8fbc\u307fdf2\u306b\u683c\u7d0d\u3057\u3066\u3001\u6700\u521d\u306e5\u884c\u3092\u8868\u793a\nprint(ans[4]) #\u56de\u7b54\u8868\u793a\n\ndf2 = pd.read_csv('../input/data1.csv')\ndf2.head(5)"
        },
        {
            "cell_type": "code",
            "execution_count": 16,
            "metadata": {
                "trusted": true
            },
            "outputs": [
                {
                    "name": "stdout",
                    "output_type": "stream",
                    "text": "[answer5]\n\ndf.sort_values('fare')\n\n\n[Tips]\n\u30fb\u8981\u7d20\u3067\u30bd\u30fc\u30c8\u3059\u308b\u3068\u304d\u306fsort_values\u3092\u4f7f\u7528\n\u30fb\u30c7\u30d5\u30a9\u30eb\u30c8\u3067\u306f\u6607\u9806\n\u30fb\u964d\u9806\u3067\u30bd\u30fc\u30c8\u3057\u305f\u3044\u5834\u5408\u306f ascending=False \u3092\u6307\u5b9a\n\u30fb\u30bd\u30fc\u30c8\u3059\u308b\u5217\u3092\u8907\u6570\u6307\u5b9a\u53ef\u80fd\n\nex)\n\u964d\u9806\u3067\u30bd\u30fc\u30c8\ndf.sort_values('fare', ascending=False)\n\n\u8907\u6570\u5217\u3067\u306e\u30bd\u30fc\u30c8\ndf.sort_values(['fare','age'])\n"
                }
            ],
            "source": "# \u30105\u3011\n# df\u306efare\u306e\u5217\u3067\u6607\u9806\u306b\u4e26\u3073\u66ff\u3048\u3066\u8868\u793a\nprint(ans[5]) #\u56de\u7b54\u8868\u793a\ndf = initialize1() #\u521d\u671f\u5316"
        },
        {
            "cell_type": "code",
            "execution_count": null,
            "metadata": {
                "trusted": true
            },
            "outputs": [],
            "source": "# \u30106\u3011\n# df_copy\u306bdf\u3092\u30b3\u30d4\u30fc\u3057\u3066\u3001\u6700\u521d\u306e5\u884c\u3092\u8868\u793a\n#print(ans[6]) #\u56de\u7b54\u8868\u793a\ndf = initialize1() #\u521d\u671f\u5316"
        },
        {
            "cell_type": "code",
            "execution_count": null,
            "metadata": {
                "trusted": true
            },
            "outputs": [],
            "source": "# \u30107\u3011\n# \u2460 df\u306e\u5404\u5217\u306e\u30c7\u30fc\u30bf\u578b\u3092\u78ba\u8a8d\n# \u2461 df\u306ecabin\u306e\u5217\u306e\u30c7\u30fc\u30bf\u578b\u3092\u78ba\u8a8d\n#print(ans[7]) #\u56de\u7b54\u8868\u793a\ndf = initialize1() #\u521d\u671f\u5316"
        },
        {
            "cell_type": "code",
            "execution_count": null,
            "metadata": {
                "trusted": true
            },
            "outputs": [],
            "source": "# \u30108\u3011\n# \u2460 df\u306epclass\u306e\u5217\u306e\u30c7\u30fc\u30bf\u578b\u3092dtype\u3067\u78ba\u8a8d\n# \u2461 \u6570\u5024\u578b\u304b\u3089\u6587\u5b57\u578b\u306b\u5909\u63db\u3057\u3001\u30c7\u30fc\u30bf\u578b\u3092dtype\u3067\u78ba\u8a8d\n#print(ans[8]) #\u56de\u7b54\u8868\u793a\ndf = initialize1() #\u521d\u671f\u5316"
        },
        {
            "cell_type": "code",
            "execution_count": null,
            "metadata": {
                "trusted": true
            },
            "outputs": [],
            "source": "# \u30109\u3011\n# df\u306e\u30ec\u30b3\u30fc\u30c9\u6570(\u884c\u6570)\u3092\u78ba\u8a8d\n#print(ans[9]) #\u56de\u7b54\u8868\u793a\ndf = initialize1() #\u521d\u671f\u5316"
        },
        {
            "cell_type": "code",
            "execution_count": null,
            "metadata": {
                "trusted": true
            },
            "outputs": [],
            "source": "# \u301010\u3011\n# df\u306e\u30ec\u30b3\u30fc\u30c9\u6570(\u884c\u6570)\u3001\u5404\u5217\u306e\u30c7\u30fc\u30bf\u578b\u3001\u6b20\u640d\u5024\u306e\u6709\u7121\u3092\u78ba\u8a8d\n#print(ans[10]) #\u56de\u7b54\u8868\u793a\ndf = initialize1() #\u521d\u671f\u5316"
        },
        {
            "cell_type": "code",
            "execution_count": null,
            "metadata": {
                "trusted": true
            },
            "outputs": [],
            "source": "# \u301011\u3011\n# df\u306esex,cabin\u306e\u5217\u306e\u8981\u7d20\u3092\u78ba\u8a8d\n#print(ans[11]) #\u56de\u7b54\u8868\u793a\ndf = initialize1() #\u521d\u671f\u5316"
        },
        {
            "cell_type": "code",
            "execution_count": null,
            "metadata": {
                "trusted": true
            },
            "outputs": [],
            "source": "# \u301012\u3011\n# df\u306e\u5217\u540d\u4e00\u89a7\u3092list\u5f62\u5f0f\u3067\u8868\u793a\n#print(ans[12]) #\u56de\u7b54\u8868\u793a\ndf = initialize1() #\u521d\u671f\u5316"
        },
        {
            "cell_type": "code",
            "execution_count": null,
            "metadata": {
                "trusted": true
            },
            "outputs": [],
            "source": "# \u301013\u3011\n# df\u306e\u30a4\u30f3\u30c7\u30c3\u30af\u30b9\u4e00\u89a7\u3092ndaaray\u5f62\u5f0f\u3067\u8868\u793a\n#print(ans[13]) #\u56de\u7b54\u8868\u793a\ndf = initialize1() #\u521d\u671f\u5316#"
        },
        {
            "cell_type": "markdown",
            "metadata": {},
            "source": "# \u30c7\u30fc\u30bf\u62bd\u51fa (14 - 32)"
        },
        {
            "cell_type": "code",
            "execution_count": null,
            "metadata": {
                "trusted": true
            },
            "outputs": [],
            "source": "# \u301014\u3011\n# df\u306ename\u306e\u5217\u306e\u307f\u8868\u793a\n#print(ans[14]) #\u56de\u7b54\u8868\u793a\ndf = initialize1() #\u521d\u671f\u5316"
        },
        {
            "cell_type": "code",
            "execution_count": null,
            "metadata": {
                "trusted": true
            },
            "outputs": [],
            "source": "# \u301015\u3011\n# df\u306ename\u3068sex\u306e\u5217\u306e\u307f\u8868\u793a\n#print(ans[15]) #\u56de\u7b54\u8868\u793a\ndf = initialize1() #\u521d\u671f\u5316"
        },
        {
            "cell_type": "code",
            "execution_count": null,
            "metadata": {
                "trusted": true
            },
            "outputs": [],
            "source": "# \u301016\u3011\n# df\u306eindex(\u884c)\u306e4\u884c\u76ee\u307e\u3067\u3092\u8868\u793a\n#print(ans[16]) #\u56de\u7b54\u8868\u793a\ndf = initialize1() #\u521d\u671f\u5316"
        },
        {
            "cell_type": "code",
            "execution_count": null,
            "metadata": {
                "trusted": true
            },
            "outputs": [],
            "source": "# \u301017\u3011\n# df\u306eindex(\u884c)\u306e4\u884c\u76ee\u304b\u308910\u884c\u76ee\u307e\u3067\u3092\u8868\u793a\n#print(ans[17]) #\u56de\u7b54\u8868\u793a\ndf = initialize1() #\u521d\u671f\u5316"
        },
        {
            "cell_type": "code",
            "execution_count": null,
            "metadata": {
                "trusted": true
            },
            "outputs": [],
            "source": "# \u301018\u3011\n# loc\u3092\u4f7f\u3063\u3066df\u5168\u4f53\u3092\u8868\u793a\n#print(ans[18]) #\u56de\u7b54\u8868\u793a\ndf = initialize1() #\u521d\u671f\u5316"
        },
        {
            "cell_type": "code",
            "execution_count": null,
            "metadata": {
                "trusted": true
            },
            "outputs": [],
            "source": "# \u301019\u3011\n# loc\u3092\u4f7f\u3063\u3066df\u306efare\u5217\u3092\u3059\u3079\u3066\u8868\u793a\n#print(ans[19]) #\u56de\u7b54\u8868\u793a\ndf = initialize1() #\u521d\u671f\u5316"
        },
        {
            "cell_type": "code",
            "execution_count": null,
            "metadata": {
                "trusted": true
            },
            "outputs": [],
            "source": "# \u301020\u3011\n# loc\u3092\u4f7f\u3063\u3066df\u306efare\u5217\u306e10\u306e\u30e9\u30d9\u30eb\u307e\u3067\u8868\u793a\n#print(ans[20]) #\u56de\u7b54\u8868\u793a\ndf = initialize1() #\u521d\u671f\u5316"
        },
        {
            "cell_type": "code",
            "execution_count": null,
            "metadata": {
                "trusted": true
            },
            "outputs": [],
            "source": "# \u301021\u3011\n# loc\u3092\u4f7f\u3063\u3066df\u306ename\u3068ticket\u306e\u5217\u3092\u3059\u3079\u3066\u8868\u793a\n#print(ans[21]) #\u56de\u7b54\u8868\u793a\ndf = initialize1() #\u521d\u671f\u5316"
        },
        {
            "cell_type": "code",
            "execution_count": null,
            "metadata": {
                "trusted": true
            },
            "outputs": [],
            "source": "# \u301022\u3011\n# loc\u3092\u4f7f\u3063\u3066df\u306ename\u304b\u3089cabin\u307e\u3067\u306e\u5217\u3092\u3059\u3079\u3066\u8868\u793a\n#print(ans[22]) #\u56de\u7b54\u8868\u793a\ndf = initialize1() #\u521d\u671f\u5316"
        },
        {
            "cell_type": "code",
            "execution_count": null,
            "metadata": {
                "trusted": true
            },
            "outputs": [],
            "source": "# \u301023\u3011\n# iloc\u3092\u4f7f\u3063\u3066df\u306eage\u5217\u30925\u884c\u76ee\u307e\u3067\u8868\u793a\n#print(ans[23]) #\u56de\u7b54\u8868\u793a\ndf = initialize1() #\u521d\u671f\u5316"
        },
        {
            "cell_type": "code",
            "execution_count": null,
            "metadata": {
                "trusted": true
            },
            "outputs": [],
            "source": "# \u301024\u3011\n# df\u306ename,age,sex\u306e\u5217\u306e\u307f\u62bd\u51fa\u3057df_copy\u306b\u683c\u7d0d\n# \u305d\u306e\u5f8coutput\u30d5\u30a9\u30eb\u30c0\u306bcsv\u30d5\u30a1\u30a4\u30eb\u3067\u51fa\u529b\n# \u51fa\u529b\u30d5\u30a1\u30a4\u30eb\u540d\u306fsample.csv\n#print(ans[24]) #\u56de\u7b54\u8868\u793a\ndf = initialize1() #\u521d\u671f\u5316"
        },
        {
            "cell_type": "code",
            "execution_count": null,
            "metadata": {
                "trusted": true
            },
            "outputs": [],
            "source": "# \u301025\u3011\n# df\u306eage\u5217\u306e\u5024\u304c30\u4ee5\u4e0a\u306e\u30c7\u30fc\u30bf\u306e\u307f\u62bd\u51fa\n#print(ans[25]) #\u56de\u7b54\u8868\u793a\ndf = initialize1() #\u521d\u671f\u5316"
        },
        {
            "cell_type": "code",
            "execution_count": null,
            "metadata": {
                "trusted": true
            },
            "outputs": [],
            "source": "# \u301026\u3011\n# df\u306esex\u5217\u304cfemale\u306e\u30c7\u30fc\u30bf\u306e\u307f\u62bd\u51fa\n#print(ans[26]) #\u56de\u7b54\u8868\u793a\ndf = initialize1() #\u521d\u671f\u5316"
        },
        {
            "cell_type": "code",
            "execution_count": null,
            "metadata": {
                "trusted": true
            },
            "outputs": [],
            "source": "# \u301027\u3011\n# df\u306esex\u5217\u304cfemale\u3067\u304b\u3064age\u304c40\u4ee5\u4e0a\u306e\u30c7\u30fc\u30bf\u306e\u307f\u62bd\u51fa\n#print(ans[27]) #\u56de\u7b54\u8868\u793a\ndf = initialize1() #\u521d\u671f\u5316"
        },
        {
            "cell_type": "code",
            "execution_count": null,
            "metadata": {
                "trusted": true
            },
            "outputs": [],
            "source": "# \u301028\u3011\n# query\u3092\u7528\u3044\u3066df\u306esex\u5217\u304cfemale\u3067\u304b\u3064age\u304c40\u4ee5\u4e0a\u306e\u30c7\u30fc\u30bf\u306e\u307f\u62bd\u51fa\n#print(ans[28]) #\u56de\u7b54\u8868\u793a\ndf = initialize1() #\u521d\u671f\u5316"
        },
        {
            "cell_type": "code",
            "execution_count": null,
            "metadata": {
                "trusted": true
            },
            "outputs": [],
            "source": "# \u301029\u3011\n# df\u306ename\u5217\u306b\u6587\u5b57\u5217\u300cMrs\u300d\u304c\u542b\u307e\u308c\u308b\u30c7\u30fc\u30bf\u3092\u8868\u793a\n#print(ans[29]) #\u56de\u7b54\u8868\u793a\ndf = initialize1() #\u521d\u671f\u5316"
        },
        {
            "cell_type": "code",
            "execution_count": null,
            "metadata": {
                "trusted": true
            },
            "outputs": [],
            "source": "# \u301030\u3011\n# df\u306e\u4e2d\u3067\u6587\u5b57\u5217\u578b\u306e\u5217\u306e\u307f\u3092\u8868\u793a\n#print(ans[30]) #\u56de\u7b54\u8868\u793a\ndf = initialize1() #\u521d\u671f\u5316"
        },
        {
            "cell_type": "code",
            "execution_count": null,
            "metadata": {
                "trusted": true
            },
            "outputs": [],
            "source": "# \u301031\u3011\n# df\u306e\u5404\u5217\u306e\u8981\u7d20\u6570\u306e\u78ba\u8a8d\n#print(ans[31]) #\u56de\u7b54\u8868\u793a\ndf = initialize1() #\u521d\u671f\u5316"
        },
        {
            "cell_type": "code",
            "execution_count": null,
            "metadata": {
                "trusted": true
            },
            "outputs": [],
            "source": "# \u301032\u3011\n# df\u306eembarked\u5217\u306e\u8981\u7d20\u3068\u51fa\u73fe\u56de\u6570\u306e\u78ba\u8a8d\n#print(ans[32]) #\u56de\u7b54\u8868\u793a\ndf = initialize1() #\u521d\u671f\u5316"
        },
        {
            "cell_type": "markdown",
            "metadata": {},
            "source": "# \u30c7\u30fc\u30bf\u52a0\u5de5 (33 - 58)"
        },
        {
            "cell_type": "code",
            "execution_count": null,
            "metadata": {
                "trusted": true
            },
            "outputs": [],
            "source": "# \u301033\u3011\n# df\u306eindex\u540d\u304c\u300c3\u300d\u306eage\u5217\u3092\n# 30\u304b\u308940\u306b\u5909\u66f4\u3057\u3001\u5148\u982d\u306e5\u884c\u3092\u8868\u793a\n#print(ans[33]) #\u56de\u7b54\u8868\u793a\ndf = initialize1() #\u521d\u671f\u5316"
        },
        {
            "cell_type": "code",
            "execution_count": null,
            "metadata": {
                "trusted": true
            },
            "outputs": [],
            "source": "# \u301034\u3011\n# df\u306esex\u5217\u306b\u3066male\u21920\u3001femlae\u21921\u306b\n# \u5909\u66f4\u3057\u3001\u5148\u982d\u306e5\u884c\u3092\u8868\u793a\n#print(ans[34]) #\u56de\u7b54\u8868\u793a\ndf = initialize1() #\u521d\u671f\u5316"
        },
        {
            "cell_type": "code",
            "execution_count": null,
            "metadata": {
                "trusted": true
            },
            "outputs": [],
            "source": "# \u301035\u3011\n# df\u306efare\u5217\u306b100\u3092\u8db3\u3057\u3066\u3001\n# \u5148\u982d\u306e5\u884c\u3092\u8868\u793a\n#print(ans[35]) #\u56de\u7b54\u8868\u793a\ndf = initialize1() #\u521d\u671f\u5316"
        },
        {
            "cell_type": "code",
            "execution_count": null,
            "metadata": {
                "trusted": true
            },
            "outputs": [],
            "source": "# \u301036\u3011\n# df\u306efare\u5217\u306b2\u3092\u639b\u3051\u3066\u3001\n# \u5148\u982d\u306e5\u884c\u3092\u8868\u793a\n#print(ans[36]) #\u56de\u7b54\u8868\u793a\ndf = initialize1() #\u521d\u671f\u5316"
        },
        {
            "cell_type": "code",
            "execution_count": null,
            "metadata": {
                "trusted": true
            },
            "outputs": [],
            "source": "# \u301037\u3011\n# df\u306efare\u5217\u3092\u5c0f\u6570\u70b9\u4ee5\u4e0b\u3067\u4e38\u3081\u3066\u3001\u5148\u982d\u306e5\u884c\u3092\u8868\u793a\n#print(ans[37]) #\u56de\u7b54\u8868\u793a\ndf = initialize1() #\u521d\u671f\u5316"
        },
        {
            "cell_type": "code",
            "execution_count": null,
            "metadata": {
                "trusted": true
            },
            "outputs": [],
            "source": "# \u301038\u3011\n# df\u306b\u5217\u540d\u300ctest\u300d\u3067\u5024\u304c\u3059\u3079\u30661\u306e\n# \u30ab\u30e9\u30e0\u3092\u8ffd\u52a0\u3057\u3001\u5148\u982d\u306e5\u884c\u3092\u8868\u793a\n#print(ans[38]) #\u56de\u7b54\u8868\u793a\ndf = initialize1() #\u521d\u671f\u5316"
        },
        {
            "cell_type": "code",
            "execution_count": null,
            "metadata": {
                "trusted": true
            },
            "outputs": [],
            "source": "# \u301039\u3011\n# df\u306bcabin\u3068embarked\u306e\u5217\u3092\u300c_\u300d\u3067\n# \u7d50\u5408\u3057\u305f\u5217\u3092\u8ffd\u52a0(\u5217\u540d\u306f\u300ctest\u300d)\u3057\u3001\n# \u5148\u982d\u306e5\u884c\u3092\u8868\u793a\n#print(ans[39]) #\u56de\u7b54\u8868\u793a\ndf = initialize1() #\u521d\u671f\u5316"
        },
        {
            "cell_type": "code",
            "execution_count": null,
            "metadata": {
                "trusted": true
            },
            "outputs": [],
            "source": "# \u301040\u3011\n# df\u306bage\u3068embarked\u306e\u5217\u3092\u300c_\u300d\u3067\n# \u7d50\u5408\u3057\u305f\u5217\u3092\u8ffd\u52a0(\u5217\u540d\u306f\u300ctest\u300d)\u3057\u3001\n# \u5148\u982d\u306e5\u884c\u3092\u8868\u793a\n#print(ans[40]) #\u56de\u7b54\u8868\u793a\ndf = initialize1() #\u521d\u671f\u5316"
        },
        {
            "cell_type": "code",
            "execution_count": null,
            "metadata": {
                "trusted": true
            },
            "outputs": [],
            "source": "# \u301041\u3011\n# df\u304b\u3089body\u306e\u5217\u3092\u524a\u9664\u3057\u3001\u6700\u521d\u306e5\u884c\u3092\u8868\u793a\n#print(ans[41]) #\u56de\u7b54\u8868\u793a\ndf = initialize1() #\u521d\u671f\u5316"
        },
        {
            "cell_type": "code",
            "execution_count": null,
            "metadata": {
                "trusted": true
            },
            "outputs": [],
            "source": "# \u301042\u3011\n# df\u304b\u3089\u30a4\u30f3\u30c7\u30c3\u30af\u30b9\u540d\u300c3\u300d\u306e\u884c\u3092\u524a\u9664\u3057\u3001\u6700\u521d\u306e5\u884c\u3092\u8868\u793a\n#print(ans[42]) #\u56de\u7b54\u8868\u793a\ndf = initialize1() #\u521d\u671f\u5316"
        },
        {
            "cell_type": "code",
            "execution_count": null,
            "metadata": {
                "trusted": true
            },
            "outputs": [],
            "source": "# \u301043\u3011\n# df2\u306e\u5217\u540d\u3092'name', 'class', 'Biology', 'Physics', 'Chemistry'\u306b\u5909\u66f4\n# df2\u306e\u6700\u521d\u306e5\u884c\u3092\u8868\u793a\n#print(ans[43]) #\u56de\u7b54\u8868\u793a\ndf2 = initialize2() #\u521d\u671f\u5316"
        },
        {
            "cell_type": "code",
            "execution_count": null,
            "metadata": {
                "trusted": true
            },
            "outputs": [],
            "source": "# \u301044\u3011\n# df2\u306e\u5217\u540d\u3092'English'\u3092Biology'\u306b\u5909\u66f4\n# df2\u306e\u6700\u521d\u306e5\u884c\u3092\u8868\u793a\n#print(ans[44]) #\u56de\u7b54\u8868\u793a\ndf2 = initialize2() #\u521d\u671f\u5316"
        },
        {
            "cell_type": "code",
            "execution_count": null,
            "metadata": {
                "trusted": true
            },
            "outputs": [],
            "source": "# \u301045\u3011\n# df2\u306e\u30a4\u30f3\u30c7\u30c3\u30af\u30b9\u540d\u300c1\u300d\u3092\u300c10\u300d\u306b\u5909\u66f4\n# df2\u306e\u6700\u521d\u306e5\u884c\u3092\u8868\u793a\n#print(ans[45]) #\u56de\u7b54\u8868\u793a\ndf2 = initialize2() #\u521d\u671f\u5316"
        },
        {
            "cell_type": "code",
            "execution_count": null,
            "metadata": {
                "trusted": true
            },
            "outputs": [],
            "source": "# \u301046\u3011\n# df\u306e\u3059\u3079\u3066\u306e\u5217\u306e\u6b20\u640d\u5024\u6570\u3092\u78ba\u8a8d\n#print(ans[46]) #\u56de\u7b54\u8868\u793a\ndf = initialize1() #\u521d\u671f\u5316"
        },
        {
            "cell_type": "code",
            "execution_count": null,
            "metadata": {
                "trusted": true
            },
            "outputs": [],
            "source": "# \u301047\u3011\n# df\u306eage\u5217\u306e\u6b20\u640d\u5024\u306b30\u3092\u4ee3\u5165\n# \u305d\u306e\u5f8c\u3001age\u306e\u6b20\u640d\u5024\u6570\u3092\u78ba\u8a8d\n#print(ans[47]) #\u56de\u7b54\u8868\u793a\ndf = initialize1() #\u521d\u671f\u5316"
        },
        {
            "cell_type": "code",
            "execution_count": null,
            "metadata": {
                "trusted": true
            },
            "outputs": [],
            "source": "# \u301048\u3011\n# df\u3067\u3072\u3068\u3064\u3067\u3082\u6b20\u640d\u5024\u304c\u3042\u308b\u884c\u3092\u524a\u9664\n# \u305d\u306e\u5f8c\u3001df\u306e\u6b20\u640d\u5024\u6570\u3092\u78ba\u8a8d\n#print(ans[48]) #\u56de\u7b54\u8868\u793a\ndf = initialize1() #\u521d\u671f\u5316"
        },
        {
            "cell_type": "code",
            "execution_count": null,
            "metadata": {
                "trusted": true
            },
            "outputs": [],
            "source": "# \u301049\u3011\n# df\u306esurvived\u306e\u5217\u3092ndarray\u5f62\u5f0f(\u914d\u5217)\u3067\u8868\u793a\n#print(ans[49]) #\u56de\u7b54\u8868\u793a\ndf = initialize1() #\u521d\u671f\u5316"
        },
        {
            "cell_type": "code",
            "execution_count": null,
            "metadata": {
                "trusted": true
            },
            "outputs": [],
            "source": "# \u301050\u3011\n# df\u306e\u884c\u3092\u30b7\u30e3\u30c3\u30d5\u30eb\u3057\u3066\u8868\u793a\n#print(ans[50]) #\u56de\u7b54\u8868\u793a\ndf = initialize1() #\u521d\u671f\u5316"
        },
        {
            "cell_type": "code",
            "execution_count": null,
            "metadata": {
                "trusted": true
            },
            "outputs": [],
            "source": "# \u301051\u3011\n# df\u306e\u884c\u3092\u30b7\u30e3\u30c3\u30d5\u30eb\u3057\u3001\u30a4\u30f3\u30c7\u30c3\u30af\u30b9\u3092\u632f\u308a\u76f4\u3057\u3066\u8868\u793a\n#print(ans[51]) #\u56de\u7b54\u8868\u793a\ndf = initialize1() #\u521d\u671f\u5316"
        },
        {
            "cell_type": "code",
            "execution_count": null,
            "metadata": {
                "trusted": true
            },
            "outputs": [],
            "source": "# \u301052\u3011\n# \u2460df2\u306e\u91cd\u8907\u884c\u6570\u3092\u30ab\u30a6\u30f3\u30c8\n# \u2461df2\u306e\u91cd\u8907\u884c\u3092\u524a\u9664\u3057\u3001df2\u3092\u8868\u793a\n#print(ans[52]) #\u56de\u7b54\u8868\u793a\ndf2 = initialize2() #\u521d\u671f\u5316"
        },
        {
            "cell_type": "code",
            "execution_count": null,
            "metadata": {
                "trusted": true
            },
            "outputs": [],
            "source": "# \u301053\u3011\n# df\u306ename\u306e\u5217\u3092\u3059\u3079\u3066\u5927\u6587\u5b57\u306b\u5909\u63db\u3057\u8868\u793a\n#print(ans[53]) #\u56de\u7b54\u8868\u793a\ndf = initialize1() #\u521d\u671f\u5316"
        },
        {
            "cell_type": "code",
            "execution_count": null,
            "metadata": {
                "trusted": true
            },
            "outputs": [],
            "source": "# \u301054\u3011\n# df\u306ename\u306e\u5217\u3092\u3059\u3079\u3066\u5c0f\u6587\u5b57\u306b\u5909\u63db\u3057\u8868\u793a\n#print(ans[54]) #\u56de\u7b54\u8868\u793a\ndf = initialize1() #\u521d\u671f\u5316"
        },
        {
            "cell_type": "code",
            "execution_count": null,
            "metadata": {
                "trusted": true
            },
            "outputs": [],
            "source": "# \u301055\u3011\n# df\u306esex\u5217\u306b\u542b\u307e\u308c\u308b\u300cfemale\u300d\u3068\u3044\u3046\u5358\u8a9e\u3092\n# \u300cPython\u300d\u306b\u7f6e\u63db\u3002\u305d\u306e\u5f8c\u30011\u884c\u76ee\u306e\n# \u300cfemale\u300d\u304c\u300cPython\u300d\u306b\u7f6e\u304d\u63db\u308f\u3063\u305f\u3053\u3068\u3092\u78ba\u8a8d\n#print(ans[55]) #\u56de\u7b54\u8868\u793a\ndf = initialize1() #\u521d\u671f\u5316"
        },
        {
            "cell_type": "code",
            "execution_count": null,
            "metadata": {
                "trusted": true
            },
            "outputs": [],
            "source": "# \u301056\u3011\n# df\u306ename\u52171\u884c\u76ee\u306e\u300cAllen, Miss. Elisabeth Walton\u300d\u306e\n# \u300cElisabeth\u300d\u3092\u6d88\u53bb(import re\u3092\u30a4\u30f3\u30dd\u30fc\u30c8)\n#print(ans[56]) #\u56de\u7b54\u8868\u793a\ndf = initialize1() #\u521d\u671f\u5316"
        },
        {
            "cell_type": "code",
            "execution_count": null,
            "metadata": {
                "trusted": true
            },
            "outputs": [],
            "source": "# \u301057\u3011\n# df5\u306e\u90fd\u9053\u5e9c\u770c\u5217\u3068\u5e02\u533a\u753a\u6751\u5217\u3092\u7a7a\u767d\u304c\u306a\u3044\u3088\u3046\u306b\n# \u300c_\u300d\u3067\u7d50\u5408(\u65b0\u898f\u5217\u540d\u306f\u300ctest2\u300d)\u3057\u3001\u5148\u982d5\u884c\u3092\u8868\u793a\n# \u203bdf5\u306e\u300ctest\u300d\u5217\u306f\u901a\u5e38\u901a\u308a\u7d50\u5408\u3057\u305f\u5834\u5408\u306e\u7d50\u679c\n#print(ans[57]) #\u56de\u7b54\u8868\u793a"
        },
        {
            "cell_type": "code",
            "execution_count": null,
            "metadata": {
                "trusted": true
            },
            "outputs": [],
            "source": "# \u301058\u3011\n# df2\u306e\u884c\u3068\u5217\u3092\u5165\u308c\u66ff\u3048\u3066\u8868\u793a\n#print(ans[58]) #\u56de\u7b54\u8868\u793a\ndf2 = initialize2() #\u521d\u671f\u5316"
        },
        {
            "cell_type": "markdown",
            "metadata": {},
            "source": "# \u30de\u30fc\u30b8\u3068\u9023\u7d50(59 - 65)"
        },
        {
            "cell_type": "code",
            "execution_count": null,
            "metadata": {
                "trusted": true
            },
            "outputs": [],
            "source": "# \u301059\u3011\n# df2\u306bdf3\u3092\u5de6\u7d50\u5408\uff08\u7d50\u5408\u30ad\u30fc\u306fname\uff09\u3057\u3001df2\u306b\u683c\u7d0d\n#print(ans[59]) #\u56de\u7b54\u8868\u793a\ndf2 = initialize2() #\u521d\u671f\u5316"
        },
        {
            "cell_type": "code",
            "execution_count": null,
            "metadata": {
                "trusted": true
            },
            "outputs": [],
            "source": "# \u301060\u3011\n# df2\u306bdf3\u3092\u53f3\u7d50\u5408\uff08\u7d50\u5408\u30ad\u30fc\u306fname\uff09\u3057\u3001df2\u306b\u683c\u7d0d\n#print(ans[60]) #\u56de\u7b54\u8868\u793a\ndf2 = initialize2() #\u521d\u671f\u5316"
        },
        {
            "cell_type": "code",
            "execution_count": null,
            "metadata": {
                "trusted": true
            },
            "outputs": [],
            "source": "# \u301061\u3011\n# df2\u306bdf3\u3092\u5185\u90e8\u7d50\u5408\uff08\u7d50\u5408\u30ad\u30fc\u306fname\uff09\u3057\u3001df2\u306b\u683c\u7d0d\n#print(ans[61]) #\u56de\u7b54\u8868\u793a\ndf2 = initialize2() #\u521d\u671f\u5316"
        },
        {
            "cell_type": "code",
            "execution_count": null,
            "metadata": {
                "trusted": true
            },
            "outputs": [],
            "source": "# \u301062\u3011\n# df2\u306bdf3\u3092\u5916\u90e8\u7d50\u5408\u3057\u3001df2\u306b\u683c\u7d0d\n#print(ans[62]) #\u56de\u7b54\u8868\u793a\ndf2 = initialize2() #\u521d\u671f\u5316"
        },
        {
            "cell_type": "code",
            "execution_count": null,
            "metadata": {
                "trusted": true
            },
            "outputs": [],
            "source": "# \u301063\u3011\n# df2\u3068df4\u3092\u5217\u65b9\u5411\u306b\u9023\u7d50\u3057\u3001df2\u306b\u683c\u7d0d\n#print(ans[63]) #\u56de\u7b54\u8868\u793a\ndf2 = initialize2() #\u521d\u671f\u5316"
        },
        {
            "cell_type": "code",
            "execution_count": null,
            "metadata": {
                "trusted": true
            },
            "outputs": [],
            "source": "# \u301064\u3011\n# df2\u3068df4\u3092\u5217\u65b9\u5411\u306b\u9023\u7d50\u5f8c\u3001\u91cd\u8907\u3057\u3066\u3044\u308b\n# name\u5217\u306e\u7247\u65b9\u3092\u524a\u9664\u3057\u3001df2\u306b\u683c\u7d0d\n#print(ans[64]) #\u56de\u7b54\u8868\u793a\ndf2 = initialize2() #\u521d\u671f\u5316"
        },
        {
            "cell_type": "code",
            "execution_count": null,
            "metadata": {
                "trusted": true
            },
            "outputs": [],
            "source": "# \u301065\u3011\n# df2\u3068df4\u3092\u884c\u65b9\u5411\u306b\u9023\u7d50\u3057\u3001df2\u306b\u683c\u7d0d\n#print(ans[65]) #\u56de\u7b54\u8868\u793a\ndf2 = initialize2() #\u521d\u671f\u5316"
        },
        {
            "cell_type": "markdown",
            "metadata": {},
            "source": "# \u7d71\u8a08 (66 - 79)"
        },
        {
            "cell_type": "code",
            "execution_count": null,
            "metadata": {
                "trusted": true
            },
            "outputs": [],
            "source": "# \u301066\u3011\n# df\u306eage\u5217\u306e\u5e73\u5747\u5024\u3092\u78ba\u8a8d\n#print(ans[66]) #\u56de\u7b54\u8868\u793a\ndf = initialize1() #\u521d\u671f\u5316"
        },
        {
            "cell_type": "code",
            "execution_count": null,
            "metadata": {
                "trusted": true
            },
            "outputs": [],
            "source": "# \u301067\u3011\n# df\u306eage\u5217\u306e\u4e2d\u592e\u5024\u3092\u78ba\u8a8d\n#print(ans[67]) #\u56de\u7b54\u8868\u793a\ndf = initialize1() #\u521d\u671f\u5316"
        },
        {
            "cell_type": "code",
            "execution_count": null,
            "metadata": {
                "trusted": true
            },
            "outputs": [],
            "source": "# \u301068\u3011\n# \u2460df2\u306e\u751f\u5f92\u3054\u3068\u306e\u5408\u8a08\u70b9\uff08\u884c\u65b9\u5411\u306e\u5408\u8a08\uff09\n# \u2461df2\u306e\u79d1\u76ee\u3054\u3068\u306e\u70b9\u6570\u306e\u7dcf\u548c\uff08\u5217\u65b9\u5411\u306e\u5408\u8a08\uff09\n#print(ans[68]) #\u56de\u7b54\u8868\u793a\ndf2 = initialize2() #\u521d\u671f\u5316"
        },
        {
            "cell_type": "code",
            "execution_count": null,
            "metadata": {
                "trusted": true
            },
            "outputs": [],
            "source": "# \u301069\u3011\n# df2\u306eEnglish\u3067\u5f97\u70b9\u306e\u6700\u5927\u5024\n#print(ans[69]) #\u56de\u7b54\u8868\u793a\ndf2 = initialize2() #\u521d\u671f\u5316"
        },
        {
            "cell_type": "code",
            "execution_count": null,
            "metadata": {
                "trusted": true
            },
            "outputs": [],
            "source": "# \u301070\u3011\n# df2\u306eEnglish\u3067\u5f97\u70b9\u306e\u6700\u5c0f\u5024\n#print(ans[70]) #\u56de\u7b54\u8868\u793a\ndf2 = initialize2() #\u521d\u671f\u5316"
        },
        {
            "cell_type": "code",
            "execution_count": null,
            "metadata": {
                "trusted": true
            },
            "outputs": [],
            "source": "# \u301071\u3011\n# df2\u306b\u304a\u3044\u3066class\u3067\u30b0\u30eb\u30fc\u30d4\u30f3\u30b0\u3057\u3001\u30af\u30e9\u30b9\u3054\u3068\u306e\u79d1\u76ee\u306e\n# \u6700\u5927\u5024\u3001\u6700\u5c0f\u5024\u3001\u5e73\u5747\u5024\u3092\u6c42\u3081\u308b(name\u5217\u306f\u524a\u9664\u3057\u3066\u304a\u304f)\n#print(ans[71]) #\u56de\u7b54\u8868\u793a\ndf2 = initialize2() #\u521d\u671f\u5316"
        },
        {
            "cell_type": "code",
            "execution_count": null,
            "metadata": {
                "trusted": true
            },
            "outputs": [],
            "source": "# \u301072\u3011\n# df\u306e\u57fa\u672c\u7d71\u8a08\u91cf\u3092\u78ba\u8a8d(describe)\n#print(ans[72]) #\u56de\u7b54\u8868\u793a\ndf = initialize1() #\u521d\u671f\u5316"
        },
        {
            "cell_type": "code",
            "execution_count": null,
            "metadata": {
                "trusted": true
            },
            "outputs": [],
            "source": "# \u301073\u3011\n# df\u306e\u5404\u5217\u9593\u306e(Pearson)\u76f8\u95a2\u4fc2\u6570\u3092\u78ba\u8a8d\n#print(ans[73]) #\u56de\u7b54\u8868\u793a\ndf = initialize1() #\u521d\u671f\u5316"
        },
        {
            "cell_type": "code",
            "execution_count": null,
            "metadata": {
                "trusted": true
            },
            "outputs": [],
            "source": "# \u301074\u3011\n# scikit-learn\u3092\u7528\u3044\u3066df2\u306eEnglish\u3001Mathematics\u3001History\u5217\u3092\u6a19\u6e96\u5316\u3059\u308b\n# (from sklearn.preprocessing import StandardScaler\u3092\u30a4\u30f3\u30dd\u30fc\u30c8)\n#print(ans[74]) #\u56de\u7b54\u8868\u793a\ndf2 = initialize2() #\u521d\u671f\u5316"
        },
        {
            "cell_type": "code",
            "execution_count": null,
            "metadata": {
                "trusted": true
            },
            "outputs": [],
            "source": "# \u301075\u3011\n# scikit-learn\u3092\u7528\u3044\u3066df2\u306eEnglish\u5217\u3092\u6a19\u6e96\u5316\u3059\u308b\n# (from sklearn.preprocessing import StandardScaler\u3092\u30a4\u30f3\u30dd\u30fc\u30c8)\n#print(ans[75]) #\u56de\u7b54\u8868\u793a\ndf2 = initialize2() #\u521d\u671f\u5316"
        },
        {
            "cell_type": "code",
            "execution_count": null,
            "metadata": {
                "trusted": true
            },
            "outputs": [],
            "source": "# \u301076\u3011\n# scikit-learn\u3092\u7528\u3044\u3066df2\u306eEnglish\u3001Mathematics\u3001History\u5217\u3092\n# Min-Max\u30b9\u30b1\u30fc\u30ea\u30f3\u30b0\u3059\u308b\n# (from sklearn.preprocessing import MinMaxScaler\u3092\u30a4\u30f3\u30dd\u30fc\u30c8)\n#print(ans[76]) #\u56de\u7b54\u8868\u793a\ndf2 = initialize2() #\u521d\u671f\u5316"
        },
        {
            "cell_type": "code",
            "execution_count": null,
            "metadata": {
                "trusted": true
            },
            "outputs": [],
            "source": "# \u301077\u3011\n# df\u306efare\u5217\u306e\u6700\u5927\u5024\u3001\u6700\u5c0f\u5024\u306e\u884c\u540d\u3092\u53d6\u5f97\n#print(ans[77]) #\u56de\u7b54\u8868\u793a\ndf = initialize1() #\u521d\u671f\u5316"
        },
        {
            "cell_type": "code",
            "execution_count": null,
            "metadata": {
                "trusted": true
            },
            "outputs": [],
            "source": "# \u301078\u3011\n# df\u306efare\u5217\u306e0\u300125\u300150\u300175\u3001100\u30d1\u30fc\u30bb\u30f3\u30bf\u30a4\u30eb\u3092\u53d6\u5f97\n#print(ans[78]) #\u56de\u7b54\u8868\u793a\ndf = initialize1() #\u521d\u671f\u5316"
        },
        {
            "cell_type": "code",
            "execution_count": null,
            "metadata": {
                "trusted": true
            },
            "outputs": [],
            "source": "# \u301079\u3011\n# \u2460df\u306eage\u5217\u306e\u6700\u983b\u5024\u3092\u53d6\u5f97\n# \u2461value_counts()\u306b\u3066age\u5217\u306e\u8981\u7d20\u6570\u3092\n# \u78ba\u8a8d\u3057\u3001\u2460\u306e\u7d50\u679c\u306e\u59a5\u5f53\u6027\u3092\u78ba\u8a8d\n#print(ans[79]) #\u56de\u7b54\u8868\u793a\ndf = initialize1() #\u521d\u671f\u5316"
        },
        {
            "cell_type": "markdown",
            "metadata": {},
            "source": "# \u30e9\u30d9\u30ea\u30f3\u30b0 (80 - 81)"
        },
        {
            "cell_type": "code",
            "execution_count": null,
            "metadata": {
                "trusted": true
            },
            "outputs": [],
            "source": "# \u301080\u3011\n# df\u306esex\u5217\u3092\u30e9\u30d9\u30eb\u30a8\u30f3\u30b3\u30fc\u30c7\u30a3\u30f3\u30b0\u3057\u3001\n# df\u306e\u5148\u982d5\u884c\u3092\u8868\u793a\n# (from sklearn.preprocessing import LabelEncoder\u3092\u30a4\u30f3\u30dd\u30fc\u30c8)\n#print(ans[80]) #\u56de\u7b54\u8868\u793a\ndf = initialize1() #\u521d\u671f\u5316"
        },
        {
            "cell_type": "code",
            "execution_count": null,
            "metadata": {
                "trusted": true
            },
            "outputs": [],
            "source": "# \u301081\u3011\n# df\u306esex\u5217\u3092One-hot\u30a8\u30f3\u30b3\u30fc\u30c7\u30a3\u30f3\u30b0\u3057\u3001\n# df\u306e\u5148\u982d5\u884c\u3092\u8868\u793a\n#print(ans[81]) #\u56de\u7b54\u8868\u793a\ndf = initialize1() #\u521d\u671f\u5316"
        },
        {
            "cell_type": "markdown",
            "metadata": {},
            "source": "# Pandas\u30d7\u30ed\u30c3\u30c8 (82 - 89)\nPandas\u30d7\u30ed\u30c3\u30c8\u306e\u6a5f\u80fd\u306b\u3064\u3044\u3066\u306f\u4ee5\u4e0b\u306e\u30b5\u30a4\u30c8\u306e\u8aac\u660e\u304c\u5206\u304b\u308a\u3084\u3059\u3044\u3067\u3059  \n[\u81ea\u8abf\u81ea\u8003\u306e\u65c5](https://own-search-and-study.xyz/2016/08/03/pandas%E3%81%AEplot%E3%81%AE%E5%85%A8%E5%BC%95%E6%95%B0%E3%82%92%E4%BD%BF%E3%81%84%E3%81%93%E3%81%AA%E3%81%99/)"
        },
        {
            "cell_type": "code",
            "execution_count": null,
            "metadata": {
                "trusted": true
            },
            "outputs": [],
            "source": "# \u301082\u3011\n# df\u306e\u3059\u3079\u3066\u306e\u6570\u5024\u5217\u306e\u30d2\u30b9\u30c8\u30b0\u30e9\u30e0\u3092\u8868\u793a\n#print(ans[82]) #\u56de\u7b54\u8868\u793a\ndf = initialize1() #\u521d\u671f\u5316"
        },
        {
            "cell_type": "code",
            "execution_count": null,
            "metadata": {
                "trusted": true
            },
            "outputs": [],
            "source": "# \u301083\u3011\n# df\u306eage\u5217\u3092\u30d2\u30b9\u30c8\u30b0\u30e9\u30e0\u3067\u8868\u793a\n#print(ans[83]) #\u56de\u7b54\u8868\u793a\ndf = initialize1() #\u521d\u671f\u5316"
        },
        {
            "cell_type": "code",
            "execution_count": null,
            "metadata": {
                "trusted": true
            },
            "outputs": [],
            "source": "# \u301084\u3011\n# df2\u306ename\u5217\u306e\u8981\u7d20\u3054\u3068\u306e3\u79d1\u76ee\u5408\u8a08\u5f97\u70b9\u3092\u68d2\u30b0\u30e9\u30d5\u3067\u8868\u793a\n#print(ans[84]) #\u56de\u7b54\u8868\u793a\ndf2 = initialize2() #\u521d\u671f\u5316"
        },
        {
            "cell_type": "code",
            "execution_count": null,
            "metadata": {
                "trusted": true
            },
            "outputs": [],
            "source": "# \u301085\u3011\n# df2\u306ename\u5217\u306e\u8981\u7d20\u3054\u3068\u306e3\u79d1\u76ee\u3092\u68d2\u30b0\u30e9\u30d5\u3067\n# \u4e26\u3079\u3066\u8868\u793a\n#print(ans[85]) #\u56de\u7b54\u8868\u793a\ndf2 = initialize2() #\u521d\u671f\u5316"
        },
        {
            "cell_type": "code",
            "execution_count": null,
            "metadata": {
                "trusted": true
            },
            "outputs": [],
            "source": "# \u301086\u3011\n# df2\u306ename\u5217\u306e\u8981\u7d20\u3054\u3068\u306e3\u79d1\u76ee\u3092\u7a4d\u307f\u4e0a\u3052\u68d2\u30b0\u30e9\u30d5\u3067\u8868\u793a\n#print(ans[86]) #\u56de\u7b54\u8868\u793a\ndf2 = initialize2() #\u521d\u671f\u5316"
        },
        {
            "cell_type": "code",
            "execution_count": null,
            "metadata": {
                "trusted": true
            },
            "outputs": [],
            "source": "# \u301087\u3011\n# df\u306e\u5404\u5217\u9593\u306e\u6563\u5e03\u56f3\u3092\u8868\u793a\n# (from pandas.plotting import scatter_matrix\u3092\u30a4\u30f3\u30dd\u30fc\u30c8)\n#print(ans[87]) #\u56de\u7b54\u8868\u793a\ndf = initialize1() #\u521d\u671f\u5316"
        },
        {
            "cell_type": "code",
            "execution_count": null,
            "metadata": {
                "trusted": true
            },
            "outputs": [],
            "source": "# \u301088\u3011\n# df\u306eage\u5217\u3068fare\u5217\u3067\u6563\u5e03\u56f3\u3092\u4f5c\u6210\n#print(ans[88]) #\u56de\u7b54\u8868\u793a\ndf = initialize1() #\u521d\u671f\u5316"
        },
        {
            "cell_type": "code",
            "execution_count": null,
            "metadata": {
                "trusted": true
            },
            "outputs": [],
            "source": "# \u301089\u3011\n# \u301088\u3011\u3067\u63cf\u753b\u3057\u305f\u30b0\u30e9\u30d5\u306b\u300cage-fare scatter\u300d\u3068\u3044\u3046\n# \u30b0\u30e9\u30d5\u30bf\u30a4\u30c8\u30eb\u3092\u3064\u3051\u308b\n#print(ans[89]) #\u56de\u7b54\u8868\u793a\ndf = initialize1() #\u521d\u671f\u5316"
        },
        {
            "cell_type": "markdown",
            "metadata": {},
            "source": "# \u30bf\u30a4\u30bf\u30cb\u30c3\u30af\u53f7\u306e\u751f\u5b58\u8005\u4e88\u6e2c (90 - 100)  \n\u3053\u308c\u307e\u3067\u89e6\u308c\u3066\u304d\u305f\u30bf\u30a4\u30bf\u30cb\u30c3\u30af\u53f7\u306e\u4e57\u5ba2\u30c7\u30fc\u30bf\u3092\u4f7f\u7528\u3057\u3066\u3001\u4e57\u5ba2\u306e\u751f\u5b58\u6709\u7121\u3092  \n\u4e88\u6e2c\u3057\u3066\u307f\u307e\u3059\u3002  \n  \n\u203b90\uff5e100\u306b\u3064\u3044\u3066\u306f\u9806\u756a\u901a\u308a\u306b\u3084\u3089\u306a\u3044\u3068\u4e0a\u624b\u304f\u52d5\u4f5c\u3057\u307e\u305b\u3093"
        },
        {
            "cell_type": "code",
            "execution_count": null,
            "metadata": {
                "trusted": true
            },
            "outputs": [],
            "source": "# \u301090\u3011\u30e9\u30d9\u30eb\u30a8\u30f3\u30b3\u30fc\u30c7\u30a3\u30f3\u30b0\n# df_copy\u306esex\u3068embarked\u5217\u3092\u30e9\u30d9\u30eb\u30a8\u30f3\u30b3\u30fc\u30c7\u30a3\u30f3\u30b0\n# (from sklearn.preprocessing import LabelEncoder\u3092\u30a4\u30f3\u30dd\u30fc\u30c8)\n# (df_copy\u306fdf\u3092\u30b3\u30d4\u30fc\u3057\u305f\u3082\u306e)\n#print(ans[90]) #\u56de\u7b54\u8868\u793a\ndf_copy =df.copy()"
        },
        {
            "cell_type": "code",
            "execution_count": null,
            "metadata": {
                "trusted": true
            },
            "outputs": [],
            "source": "# \u301091\u3011\u6b20\u640d\u5024\u78ba\u8a8d\n# df_copy\u306e\u6b20\u640d\u5024\u3092\u78ba\u8a8d\n#print(ans[91]) #\u56de\u7b54\u8868\u793a"
        },
        {
            "cell_type": "code",
            "execution_count": null,
            "metadata": {
                "trusted": true
            },
            "outputs": [],
            "source": "# \u301092\u3011\u6b20\u640d\u5024\u88dc\u5b8c\n# df_copy\u306eage\u3001fare\u5217\u306e\u6b20\u640d\u5024\u3092\u5404\u5217\u306e\u5e73\u5747\u5024\u3067\u88dc\u5b8c\n#print(ans[92]) #\u56de\u7b54\u8868\u793a"
        },
        {
            "cell_type": "code",
            "execution_count": null,
            "metadata": {
                "trusted": true
            },
            "outputs": [],
            "source": "# \u301093\u3011\u4e0d\u8981\u5217\u306e\u524a\u9664\n# df_copy\u306e\u4e2d\u3067\u6a5f\u68b0\u5b66\u7fd2\u3067\u4f7f\u7528\u3057\u306a\u3044\u4e0d\u8981\u306a\u884c\u3092\u524a\u9664\n# (name, ticket, cabin, boat, body, home.dest\u3092\u524a\u9664)\n#print(ans[93]) #\u56de\u7b54\u8868\u793a"
        },
        {
            "cell_type": "code",
            "execution_count": null,
            "metadata": {
                "trusted": true
            },
            "outputs": [],
            "source": "# \u301094\u3011ndarray\u5f62\u5f0f\u3078\u306e\u5909\u63db\n# \u2460df_copy\u306epclass\u3001age\u3001sex\u3001fare\u3001embarked\u306e\u5217\u3092\u62bd\u51fa\u3057\u3001ndarray\u5f62\u5f0f\u306b\u5909\u63db\n# \u2461df_copy\u306esurvived\u306e\u5217\u3092\u62bd\u51fa\u3057\u3001ndarray\u5f62\u5f0f\u306b\u5909\u63db\n# (\u2460\u3092features\u3001\u2461\u3092target\u3068\u3044\u3046\u5909\u6570\u306b\u305d\u308c\u305e\u308c\u683c\u7d0d)\n#print(ans[94]) #\u56de\u7b54\u8868\u793a"
        },
        {
            "cell_type": "code",
            "execution_count": null,
            "metadata": {
                "trusted": true
            },
            "outputs": [],
            "source": "# \u301095\u3011\u5b66\u7fd2\u30c7\u30fc\u30bf\u3068\u30c6\u30b9\u30c8\u30c7\u30fc\u30bf\u306b\u5206\u5272\n# \u301094\u3011\u3067\u4f5c\u6210\u3057\u305ffeatrues\u3001target\u3092\u5b66\u7fd2\u30c7\u30fc\u30bf\u3068\u30c6\u30b9\u30c8\u30c7\u30fc\u30bf\u306b\u5206\u5272\n# (from sklearn.model_selection import  train_test_split\u3092\u30a4\u30f3\u30dd\u30fc\u30c8)\n# \u203b\u5206\u5272\u6642\u306e\u30d1\u30e9\u30e1\u30fc\u30bf\u306f\u6b21\u3092\u6307\u5b9a test_size=0.3 random_state=0\n#print(ans[95]) #\u56de\u7b54\u8868\u793a"
        },
        {
            "cell_type": "code",
            "execution_count": null,
            "metadata": {
                "trusted": true
            },
            "outputs": [],
            "source": "# \u301096\u3011\u5b66\u7fd2\u306e\u5b9f\u884c\n# \u5b66\u7fd2\u30c7\u30fc\u30bf(features\u3001target)\u3092\u7528\u3044\u30e9\u30f3\u30c0\u30e0\u30d5\u30a9\u30ec\u30b9\u30c8\u306b\u3066\u5b66\u7fd2\u3092\u5b9f\u884c\n# (from sklearn.ensemble import RandomForestClassifier\u3092\u30a4\u30f3\u30dd\u30fc\u30c8)\n# \u203b\u30d1\u30e9\u30e1\u30fc\u30bf\u306f\u6b21\u3092\u6307\u5b9a n_estimators=100 random_state=0\n#print(ans[96]) #\u56de\u7b54\u8868\u793a"
        },
        {
            "cell_type": "code",
            "execution_count": null,
            "metadata": {
                "trusted": true
            },
            "outputs": [],
            "source": "# \u301097\u3011\u4e88\u6e2c\u306e\u5b9f\u884c\n# test_X\u30c7\u30fc\u30bf\u306e\u4e57\u5ba2\u306e\u751f\u5b58\u3092\u4e88\u6e2c\n#print(ans[97]) #\u56de\u7b54\u8868\u793a"
        },
        {
            "cell_type": "code",
            "execution_count": null,
            "metadata": {
                "trusted": true
            },
            "outputs": [],
            "source": "# \u301098\u3011\u4e88\u6e2c\u7cbe\u5ea6\u306e\u78ba\u8a8d\n# \u4e88\u6e2c\u7d50\u679c\u304ctest_y(\u751f\u5b58\u6709\u7121\u306e\u7b54\u3048)\u3068\u3069\u308c\u3050\u3089\u3044\n# \u6574\u5408\u3057\u3066\u3044\u305f\u304b\u3092\u78ba\u8a8d(\u8a55\u4fa1\u6307\u6a19\u306faccuracy)\n# (from sklearn.metrics import accuracy_score\u3092\u30a4\u30f3\u30dd\u30fc\u30c8)\n#print(ans[98]) #\u56de\u7b54\u8868\u793a"
        },
        {
            "cell_type": "code",
            "execution_count": null,
            "metadata": {
                "trusted": true
            },
            "outputs": [],
            "source": "# \u301099\u3011\u91cd\u8981\u5ea6\u306e\u78ba\u8a8d\n# \u5b66\u7fd2\u306b\u304a\u3051\u308b\u5404\u5217(\u7279\u5fb4\u91cf)\u306e\n# \u91cd\u8981\u5ea6\u3092\u8868\u793a\n#print(ans[99]) #\u56de\u7b54\u8868\u793a"
        },
        {
            "cell_type": "code",
            "execution_count": null,
            "metadata": {
                "trusted": true
            },
            "outputs": [],
            "source": "# \u3010100\u3011\u4e88\u6e2c\u7d50\u679c\u306ecsv\u51fa\u529b\n# test_X\u306e\u4e88\u6e2c\u7d50\u679c\u3092csv\u3067output\u30d5\u30a9\u30eb\u30c0\u306b\u51fa\u529b(\u30d5\u30a1\u30a4\u30eb\u540d\u306f\u300csubmission.csv\u300d)\n# (header\u306f\u4e0d\u8981)\n#print(ans[100]) #\u56de\u7b54\u8868\u793a"
        },
        {
            "cell_type": "markdown",
            "metadata": {},
            "source": "# \u30ce\u30c3\u30af\u304a\u75b2\u308c\u69d8\u3067\u3057\u305f\n\u5404\u30bb\u30eb\u306eoutput\u8868\u793a\u3092\u3059\u3079\u3066\u30af\u30ea\u30a2\u306b\u3057\u305f\u3044\u5834\u5408\u306f\u3001\u30c4\u30fc\u30eb\u30d0\u30fc\u306e  \n\u300cKernel\u300d\u2192\u300cRestart & Clear Output\u300d\u3092\u5b9f\u884c\u3057\u3066\u4e0b\u3055\u3044\u3002"
        }
    ],
    "metadata": {
        "kernelspec": {
            "display_name": "Python 3 (ipykernel)",
            "language": "python",
            "name": "python3"
        },
        "language_info": {
            "codemirror_mode": {
                "name": "ipython",
                "version": 3
            },
            "file_extension": ".py",
            "mimetype": "text/x-python",
            "name": "python",
            "nbconvert_exporter": "python",
            "pygments_lexer": "ipython3",
            "version": "3.12.3"
        }
    },
    "nbformat": 4,
    "nbformat_minor": 5
}
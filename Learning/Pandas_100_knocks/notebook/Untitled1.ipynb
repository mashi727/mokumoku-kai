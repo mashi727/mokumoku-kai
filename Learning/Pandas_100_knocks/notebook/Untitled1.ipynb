{
 "cells": [
  {
   "cell_type": "markdown",
   "id": "3eaa8a63",
   "metadata": {},
   "source": [
    "# 初学者向けPandas100本ノックver1.0.7（全回答&結果表示）\n",
    "##### Shift + Enter で各セルのコードが実行されます\n",
    "・print(ans[ 問題番号 ]) で回答コード例を表示  \n",
    "・Python3エンジニア認定データ分析試験にも沿った問題内容   \n",
    "・Pandasの各メソッドの説明は以下のサイトが分かりやすいです  \n",
    " 　[note.nkmk.me](https://note.nkmk.me/pandas/)  \n",
    "・\"Data for Titanic passengers\" from [VANDERBILT UNIVERSITY](https://biostat.app.vumc.org/wiki/Main/DataSets)  \n",
    "  \n",
    "**本コンテンツ作成時のpandasのバージョンは1.1.0**\n",
    "  \n",
    "作成日:2020年9月24日  \n",
    "最終更新日:2023年1月16日  \n",
    "再配布・改編不可  \n",
    "作成者：[kunishou](https://qiita.com/kunishou)"
   ]
  },
  {
   "cell_type": "code",
   "execution_count": 10,
   "id": "273bc9d0",
   "metadata": {},
   "outputs": [
    {
     "name": "stdout",
     "output_type": "stream",
     "text": [
      "[answer1]\n",
      "\n",
      "df.head()\n",
      "\n",
      "\n",
      "[tips]\n",
      ".head()はデフォルトで先頭5行表示\n",
      "()に表示したい行数を入れる\n",
      "先頭10行表示は .head(10)\n"
     ]
    }
   ],
   "source": [
    "# Shift + Enterで題材データ、回答コードを読み込んで下さい\n",
    "\n",
    "import pandas as pd\n",
    "import glob\n",
    "\n",
    "#題材データをdfに読み込み(タイタニック号の乗客データ、テストの点数データ 等)\n",
    "def initialize1():\n",
    "    df = pd.read_csv('../input/titanic3.csv')\n",
    "    return df\n",
    "\n",
    "def initialize2():\n",
    "    df = pd.read_csv('../input/data1.csv')\n",
    "    return df\n",
    "\n",
    "df = initialize1()\n",
    "df2 = initialize2()\n",
    "df3 = pd.read_csv('../input/data1_2.csv')\n",
    "df4 = pd.read_csv('../input/data1_3.csv')\n",
    "df5 = pd.read_csv('../input/data2.csv',encoding='cp932')\n",
    "\n",
    "#回答コードをansリストに格納\n",
    "path = sorted(glob.glob('../input/a_' + '*.txt'))\n",
    "\n",
    "ans = []\n",
    "\n",
    "for _ in range(len(path)):\n",
    "    with open(path[_], 'r',encoding='utf-8') as f:\n",
    "        ans.append(f.read())"
   ]
  },
  {
   "cell_type": "markdown",
   "id": "f5adc761",
   "metadata": {},
   "source": [
    "# Pandas基礎 (1 - 13)"
   ]
  },
  {
   "cell_type": "code",
   "execution_count": 3,
   "id": "17d61d15",
   "metadata": {},
   "outputs": [
    {
     "name": "stdout",
     "output_type": "stream",
     "text": [
      "[answer1]\n",
      "\n",
      "df.head()\n",
      "\n",
      "\n",
      "[tips]\n",
      ".head()はデフォルトで先頭5行表示\n",
      "()に表示したい行数を入れる\n",
      "先頭10行表示は .head(10)\n"
     ]
    },
    {
     "data": {
      "text/html": [
       "<div>\n",
       "<style scoped>\n",
       "    .dataframe tbody tr th:only-of-type {\n",
       "        vertical-align: middle;\n",
       "    }\n",
       "\n",
       "    .dataframe tbody tr th {\n",
       "        vertical-align: top;\n",
       "    }\n",
       "\n",
       "    .dataframe thead th {\n",
       "        text-align: right;\n",
       "    }\n",
       "</style>\n",
       "<table border=\"1\" class=\"dataframe\">\n",
       "  <thead>\n",
       "    <tr style=\"text-align: right;\">\n",
       "      <th></th>\n",
       "      <th>pclass</th>\n",
       "      <th>survived</th>\n",
       "      <th>name</th>\n",
       "      <th>sex</th>\n",
       "      <th>age</th>\n",
       "      <th>sibsp</th>\n",
       "      <th>parch</th>\n",
       "      <th>ticket</th>\n",
       "      <th>fare</th>\n",
       "      <th>cabin</th>\n",
       "      <th>embarked</th>\n",
       "      <th>boat</th>\n",
       "      <th>body</th>\n",
       "      <th>home.dest</th>\n",
       "    </tr>\n",
       "  </thead>\n",
       "  <tbody>\n",
       "    <tr>\n",
       "      <th>0</th>\n",
       "      <td>1</td>\n",
       "      <td>1</td>\n",
       "      <td>Allen, Miss. Elisabeth Walton</td>\n",
       "      <td>female</td>\n",
       "      <td>29.00</td>\n",
       "      <td>0</td>\n",
       "      <td>0</td>\n",
       "      <td>24160</td>\n",
       "      <td>211.3375</td>\n",
       "      <td>B5</td>\n",
       "      <td>S</td>\n",
       "      <td>2</td>\n",
       "      <td>NaN</td>\n",
       "      <td>St Louis, MO</td>\n",
       "    </tr>\n",
       "    <tr>\n",
       "      <th>1</th>\n",
       "      <td>1</td>\n",
       "      <td>1</td>\n",
       "      <td>Allison, Master. Hudson Trevor</td>\n",
       "      <td>male</td>\n",
       "      <td>0.92</td>\n",
       "      <td>1</td>\n",
       "      <td>2</td>\n",
       "      <td>113781</td>\n",
       "      <td>151.5500</td>\n",
       "      <td>C22 C26</td>\n",
       "      <td>S</td>\n",
       "      <td>11</td>\n",
       "      <td>NaN</td>\n",
       "      <td>Montreal, PQ / Chesterville, ON</td>\n",
       "    </tr>\n",
       "    <tr>\n",
       "      <th>2</th>\n",
       "      <td>1</td>\n",
       "      <td>0</td>\n",
       "      <td>Allison, Miss. Helen Loraine</td>\n",
       "      <td>female</td>\n",
       "      <td>2.00</td>\n",
       "      <td>1</td>\n",
       "      <td>2</td>\n",
       "      <td>113781</td>\n",
       "      <td>151.5500</td>\n",
       "      <td>C22 C26</td>\n",
       "      <td>S</td>\n",
       "      <td>NaN</td>\n",
       "      <td>NaN</td>\n",
       "      <td>Montreal, PQ / Chesterville, ON</td>\n",
       "    </tr>\n",
       "    <tr>\n",
       "      <th>3</th>\n",
       "      <td>1</td>\n",
       "      <td>0</td>\n",
       "      <td>Allison, Mr. Hudson Joshua Creighton</td>\n",
       "      <td>male</td>\n",
       "      <td>30.00</td>\n",
       "      <td>1</td>\n",
       "      <td>2</td>\n",
       "      <td>113781</td>\n",
       "      <td>151.5500</td>\n",
       "      <td>C22 C26</td>\n",
       "      <td>S</td>\n",
       "      <td>NaN</td>\n",
       "      <td>135.0</td>\n",
       "      <td>Montreal, PQ / Chesterville, ON</td>\n",
       "    </tr>\n",
       "    <tr>\n",
       "      <th>4</th>\n",
       "      <td>1</td>\n",
       "      <td>0</td>\n",
       "      <td>Allison, Mrs. Hudson J C (Bessie Waldo Daniels)</td>\n",
       "      <td>female</td>\n",
       "      <td>25.00</td>\n",
       "      <td>1</td>\n",
       "      <td>2</td>\n",
       "      <td>113781</td>\n",
       "      <td>151.5500</td>\n",
       "      <td>C22 C26</td>\n",
       "      <td>S</td>\n",
       "      <td>NaN</td>\n",
       "      <td>NaN</td>\n",
       "      <td>Montreal, PQ / Chesterville, ON</td>\n",
       "    </tr>\n",
       "  </tbody>\n",
       "</table>\n",
       "</div>"
      ],
      "text/plain": [
       "   pclass  survived                                             name     sex  \\\n",
       "0       1         1                    Allen, Miss. Elisabeth Walton  female   \n",
       "1       1         1                   Allison, Master. Hudson Trevor    male   \n",
       "2       1         0                     Allison, Miss. Helen Loraine  female   \n",
       "3       1         0             Allison, Mr. Hudson Joshua Creighton    male   \n",
       "4       1         0  Allison, Mrs. Hudson J C (Bessie Waldo Daniels)  female   \n",
       "\n",
       "     age  sibsp  parch  ticket      fare    cabin embarked boat   body  \\\n",
       "0  29.00      0      0   24160  211.3375       B5        S    2    NaN   \n",
       "1   0.92      1      2  113781  151.5500  C22 C26        S   11    NaN   \n",
       "2   2.00      1      2  113781  151.5500  C22 C26        S  NaN    NaN   \n",
       "3  30.00      1      2  113781  151.5500  C22 C26        S  NaN  135.0   \n",
       "4  25.00      1      2  113781  151.5500  C22 C26        S  NaN    NaN   \n",
       "\n",
       "                         home.dest  \n",
       "0                     St Louis, MO  \n",
       "1  Montreal, PQ / Chesterville, ON  \n",
       "2  Montreal, PQ / Chesterville, ON  \n",
       "3  Montreal, PQ / Chesterville, ON  \n",
       "4  Montreal, PQ / Chesterville, ON  "
      ]
     },
     "execution_count": 3,
     "metadata": {},
     "output_type": "execute_result"
    }
   ],
   "source": [
    "# 【1】\n",
    "# dfに読み込んだデータの最初の5行を表示\n",
    "print(ans[1]) #回答表示\n",
    "df = initialize1() #初期化\n",
    "\n",
    "df.head()"
   ]
  },
  {
   "cell_type": "code",
   "execution_count": 4,
   "id": "bb57c786",
   "metadata": {},
   "outputs": [
    {
     "name": "stdout",
     "output_type": "stream",
     "text": [
      "[answer2]\n",
      "\n",
      "df.tail()\n",
      "\n",
      "\n",
      "[tips]\n",
      ".tail()はデフォルトで最後の5行表示\n",
      "()に表示したい行数を入れる\n",
      "最後10行表示は .tail(10)\n"
     ]
    },
    {
     "data": {
      "text/html": [
       "<div>\n",
       "<style scoped>\n",
       "    .dataframe tbody tr th:only-of-type {\n",
       "        vertical-align: middle;\n",
       "    }\n",
       "\n",
       "    .dataframe tbody tr th {\n",
       "        vertical-align: top;\n",
       "    }\n",
       "\n",
       "    .dataframe thead th {\n",
       "        text-align: right;\n",
       "    }\n",
       "</style>\n",
       "<table border=\"1\" class=\"dataframe\">\n",
       "  <thead>\n",
       "    <tr style=\"text-align: right;\">\n",
       "      <th></th>\n",
       "      <th>pclass</th>\n",
       "      <th>survived</th>\n",
       "      <th>name</th>\n",
       "      <th>sex</th>\n",
       "      <th>age</th>\n",
       "      <th>sibsp</th>\n",
       "      <th>parch</th>\n",
       "      <th>ticket</th>\n",
       "      <th>fare</th>\n",
       "      <th>cabin</th>\n",
       "      <th>embarked</th>\n",
       "      <th>boat</th>\n",
       "      <th>body</th>\n",
       "      <th>home.dest</th>\n",
       "    </tr>\n",
       "  </thead>\n",
       "  <tbody>\n",
       "    <tr>\n",
       "      <th>1304</th>\n",
       "      <td>3</td>\n",
       "      <td>0</td>\n",
       "      <td>Zabour, Miss. Hileni</td>\n",
       "      <td>female</td>\n",
       "      <td>14.5</td>\n",
       "      <td>1</td>\n",
       "      <td>0</td>\n",
       "      <td>2665</td>\n",
       "      <td>14.4542</td>\n",
       "      <td>NaN</td>\n",
       "      <td>C</td>\n",
       "      <td>NaN</td>\n",
       "      <td>328.0</td>\n",
       "      <td>NaN</td>\n",
       "    </tr>\n",
       "    <tr>\n",
       "      <th>1305</th>\n",
       "      <td>3</td>\n",
       "      <td>0</td>\n",
       "      <td>Zabour, Miss. Thamine</td>\n",
       "      <td>female</td>\n",
       "      <td>NaN</td>\n",
       "      <td>1</td>\n",
       "      <td>0</td>\n",
       "      <td>2665</td>\n",
       "      <td>14.4542</td>\n",
       "      <td>NaN</td>\n",
       "      <td>C</td>\n",
       "      <td>NaN</td>\n",
       "      <td>NaN</td>\n",
       "      <td>NaN</td>\n",
       "    </tr>\n",
       "    <tr>\n",
       "      <th>1306</th>\n",
       "      <td>3</td>\n",
       "      <td>0</td>\n",
       "      <td>Zakarian, Mr. Mapriededer</td>\n",
       "      <td>male</td>\n",
       "      <td>26.5</td>\n",
       "      <td>0</td>\n",
       "      <td>0</td>\n",
       "      <td>2656</td>\n",
       "      <td>7.2250</td>\n",
       "      <td>NaN</td>\n",
       "      <td>C</td>\n",
       "      <td>NaN</td>\n",
       "      <td>304.0</td>\n",
       "      <td>NaN</td>\n",
       "    </tr>\n",
       "    <tr>\n",
       "      <th>1307</th>\n",
       "      <td>3</td>\n",
       "      <td>0</td>\n",
       "      <td>Zakarian, Mr. Ortin</td>\n",
       "      <td>male</td>\n",
       "      <td>27.0</td>\n",
       "      <td>0</td>\n",
       "      <td>0</td>\n",
       "      <td>2670</td>\n",
       "      <td>7.2250</td>\n",
       "      <td>NaN</td>\n",
       "      <td>C</td>\n",
       "      <td>NaN</td>\n",
       "      <td>NaN</td>\n",
       "      <td>NaN</td>\n",
       "    </tr>\n",
       "    <tr>\n",
       "      <th>1308</th>\n",
       "      <td>3</td>\n",
       "      <td>0</td>\n",
       "      <td>Zimmerman, Mr. Leo</td>\n",
       "      <td>male</td>\n",
       "      <td>29.0</td>\n",
       "      <td>0</td>\n",
       "      <td>0</td>\n",
       "      <td>315082</td>\n",
       "      <td>7.8750</td>\n",
       "      <td>NaN</td>\n",
       "      <td>S</td>\n",
       "      <td>NaN</td>\n",
       "      <td>NaN</td>\n",
       "      <td>NaN</td>\n",
       "    </tr>\n",
       "  </tbody>\n",
       "</table>\n",
       "</div>"
      ],
      "text/plain": [
       "      pclass  survived                       name     sex   age  sibsp  parch  \\\n",
       "1304       3         0       Zabour, Miss. Hileni  female  14.5      1      0   \n",
       "1305       3         0      Zabour, Miss. Thamine  female   NaN      1      0   \n",
       "1306       3         0  Zakarian, Mr. Mapriededer    male  26.5      0      0   \n",
       "1307       3         0        Zakarian, Mr. Ortin    male  27.0      0      0   \n",
       "1308       3         0         Zimmerman, Mr. Leo    male  29.0      0      0   \n",
       "\n",
       "      ticket     fare cabin embarked boat   body home.dest  \n",
       "1304    2665  14.4542   NaN        C  NaN  328.0       NaN  \n",
       "1305    2665  14.4542   NaN        C  NaN    NaN       NaN  \n",
       "1306    2656   7.2250   NaN        C  NaN  304.0       NaN  \n",
       "1307    2670   7.2250   NaN        C  NaN    NaN       NaN  \n",
       "1308  315082   7.8750   NaN        S  NaN    NaN       NaN  "
      ]
     },
     "execution_count": 4,
     "metadata": {},
     "output_type": "execute_result"
    }
   ],
   "source": [
    "# 【2】\n",
    "# dfに読み込んだデータの最後の5行を表示\n",
    "print(ans[2]) #回答表示\n",
    "df = initialize1() #初期化\n",
    "\n",
    "df.tail()"
   ]
  },
  {
   "cell_type": "code",
   "execution_count": 5,
   "id": "6eac842b",
   "metadata": {},
   "outputs": [
    {
     "name": "stdout",
     "output_type": "stream",
     "text": [
      "[answer3]\n",
      "\n",
      "df.shape\n"
     ]
    },
    {
     "data": {
      "text/plain": [
       "(1309, 14)"
      ]
     },
     "execution_count": 5,
     "metadata": {},
     "output_type": "execute_result"
    }
   ],
   "source": [
    "# 【3】\n",
    "# dfのDataFrameサイズを確認\n",
    "print(ans[3]) #回答表示\n",
    "df = initialize1() #初期化\n",
    "\n",
    "df.shape"
   ]
  },
  {
   "cell_type": "code",
   "execution_count": 6,
   "id": "ada0487c",
   "metadata": {},
   "outputs": [
    {
     "name": "stdout",
     "output_type": "stream",
     "text": [
      "[answer4]\n",
      "\n",
      "df2 = pd.read_csv('../input/data1.csv')\n",
      "df2.head()\n",
      "\n",
      "\n",
      "[Tips]\n",
      "・csvの読み込みはread_csv\n",
      "・必要に応じてencoding=''を指定する\n",
      "utf-8\n",
      "shift_jis (日本語)\n",
      "cp932 (Windows拡張文字含む日本語)\n",
      "\n",
      "ex)\n",
      "df2 = pd.read_csv('../input/data1.csv',encoding='utf-8')\n"
     ]
    },
    {
     "data": {
      "text/html": [
       "<div>\n",
       "<style scoped>\n",
       "    .dataframe tbody tr th:only-of-type {\n",
       "        vertical-align: middle;\n",
       "    }\n",
       "\n",
       "    .dataframe tbody tr th {\n",
       "        vertical-align: top;\n",
       "    }\n",
       "\n",
       "    .dataframe thead th {\n",
       "        text-align: right;\n",
       "    }\n",
       "</style>\n",
       "<table border=\"1\" class=\"dataframe\">\n",
       "  <thead>\n",
       "    <tr style=\"text-align: right;\">\n",
       "      <th></th>\n",
       "      <th>name</th>\n",
       "      <th>class</th>\n",
       "      <th>English</th>\n",
       "      <th>Mathematics</th>\n",
       "      <th>History</th>\n",
       "    </tr>\n",
       "  </thead>\n",
       "  <tbody>\n",
       "    <tr>\n",
       "      <th>0</th>\n",
       "      <td>A</td>\n",
       "      <td>1</td>\n",
       "      <td>80</td>\n",
       "      <td>55</td>\n",
       "      <td>65</td>\n",
       "    </tr>\n",
       "    <tr>\n",
       "      <th>1</th>\n",
       "      <td>B</td>\n",
       "      <td>1</td>\n",
       "      <td>55</td>\n",
       "      <td>100</td>\n",
       "      <td>83</td>\n",
       "    </tr>\n",
       "    <tr>\n",
       "      <th>2</th>\n",
       "      <td>C</td>\n",
       "      <td>2</td>\n",
       "      <td>65</td>\n",
       "      <td>70</td>\n",
       "      <td>95</td>\n",
       "    </tr>\n",
       "    <tr>\n",
       "      <th>3</th>\n",
       "      <td>D</td>\n",
       "      <td>1</td>\n",
       "      <td>40</td>\n",
       "      <td>63</td>\n",
       "      <td>70</td>\n",
       "    </tr>\n",
       "    <tr>\n",
       "      <th>4</th>\n",
       "      <td>E</td>\n",
       "      <td>2</td>\n",
       "      <td>76</td>\n",
       "      <td>82</td>\n",
       "      <td>79</td>\n",
       "    </tr>\n",
       "  </tbody>\n",
       "</table>\n",
       "</div>"
      ],
      "text/plain": [
       "  name  class  English  Mathematics  History\n",
       "0    A      1       80           55       65\n",
       "1    B      1       55          100       83\n",
       "2    C      2       65           70       95\n",
       "3    D      1       40           63       70\n",
       "4    E      2       76           82       79"
      ]
     },
     "execution_count": 6,
     "metadata": {},
     "output_type": "execute_result"
    }
   ],
   "source": [
    "# 【4】\n",
    "# inputフォルダ内のdata1.csvファイルを\n",
    "# 読み込みdf2に格納して、最初の5行を表示\n",
    "print(ans[4]) #回答表示\n",
    "\n",
    "df2 = pd.read_csv('../input/data1.csv')\n",
    "df2.head()"
   ]
  },
  {
   "cell_type": "code",
   "execution_count": 7,
   "id": "e4605abf",
   "metadata": {},
   "outputs": [
    {
     "name": "stdout",
     "output_type": "stream",
     "text": [
      "[answer5]\n",
      "\n",
      "df.sort_values('fare')\n",
      "\n",
      "\n",
      "[Tips]\n",
      "・要素でソートするときはsort_valuesを使用\n",
      "・デフォルトでは昇順\n",
      "・降順でソートしたい場合は ascending=False を指定\n",
      "・ソートする列を複数指定可能\n",
      "\n",
      "ex)\n",
      "降順でソート\n",
      "df.sort_values('fare', ascending=False)\n",
      "\n",
      "複数列でのソート\n",
      "df.sort_values(['fare','age'])\n",
      "      pclass  survived                                             name  \\\n",
      "0          1         1                    Allen, Miss. Elisabeth Walton   \n",
      "1          1         1                   Allison, Master. Hudson Trevor   \n",
      "2          1         0                     Allison, Miss. Helen Loraine   \n",
      "3          1         0             Allison, Mr. Hudson Joshua Creighton   \n",
      "4          1         0  Allison, Mrs. Hudson J C (Bessie Waldo Daniels)   \n",
      "...      ...       ...                                              ...   \n",
      "1304       3         0                             Zabour, Miss. Hileni   \n",
      "1305       3         0                            Zabour, Miss. Thamine   \n",
      "1306       3         0                        Zakarian, Mr. Mapriededer   \n",
      "1307       3         0                              Zakarian, Mr. Ortin   \n",
      "1308       3         0                               Zimmerman, Mr. Leo   \n",
      "\n",
      "         sex    age  sibsp  parch  ticket      fare    cabin embarked boat  \\\n",
      "0     female  29.00      0      0   24160  211.3375       B5        S    2   \n",
      "1       male   0.92      1      2  113781  151.5500  C22 C26        S   11   \n",
      "2     female   2.00      1      2  113781  151.5500  C22 C26        S  NaN   \n",
      "3       male  30.00      1      2  113781  151.5500  C22 C26        S  NaN   \n",
      "4     female  25.00      1      2  113781  151.5500  C22 C26        S  NaN   \n",
      "...      ...    ...    ...    ...     ...       ...      ...      ...  ...   \n",
      "1304  female  14.50      1      0    2665   14.4542      NaN        C  NaN   \n",
      "1305  female    NaN      1      0    2665   14.4542      NaN        C  NaN   \n",
      "1306    male  26.50      0      0    2656    7.2250      NaN        C  NaN   \n",
      "1307    male  27.00      0      0    2670    7.2250      NaN        C  NaN   \n",
      "1308    male  29.00      0      0  315082    7.8750      NaN        S  NaN   \n",
      "\n",
      "       body                        home.dest  \n",
      "0       NaN                     St Louis, MO  \n",
      "1       NaN  Montreal, PQ / Chesterville, ON  \n",
      "2       NaN  Montreal, PQ / Chesterville, ON  \n",
      "3     135.0  Montreal, PQ / Chesterville, ON  \n",
      "4       NaN  Montreal, PQ / Chesterville, ON  \n",
      "...     ...                              ...  \n",
      "1304  328.0                              NaN  \n",
      "1305    NaN                              NaN  \n",
      "1306  304.0                              NaN  \n",
      "1307    NaN                              NaN  \n",
      "1308    NaN                              NaN  \n",
      "\n",
      "[1309 rows x 14 columns]\n"
     ]
    },
    {
     "data": {
      "text/html": [
       "<div>\n",
       "<style scoped>\n",
       "    .dataframe tbody tr th:only-of-type {\n",
       "        vertical-align: middle;\n",
       "    }\n",
       "\n",
       "    .dataframe tbody tr th {\n",
       "        vertical-align: top;\n",
       "    }\n",
       "\n",
       "    .dataframe thead th {\n",
       "        text-align: right;\n",
       "    }\n",
       "</style>\n",
       "<table border=\"1\" class=\"dataframe\">\n",
       "  <thead>\n",
       "    <tr style=\"text-align: right;\">\n",
       "      <th></th>\n",
       "      <th>pclass</th>\n",
       "      <th>survived</th>\n",
       "      <th>name</th>\n",
       "      <th>sex</th>\n",
       "      <th>age</th>\n",
       "      <th>sibsp</th>\n",
       "      <th>parch</th>\n",
       "      <th>ticket</th>\n",
       "      <th>fare</th>\n",
       "      <th>cabin</th>\n",
       "      <th>embarked</th>\n",
       "      <th>boat</th>\n",
       "      <th>body</th>\n",
       "      <th>home.dest</th>\n",
       "    </tr>\n",
       "  </thead>\n",
       "  <tbody>\n",
       "    <tr>\n",
       "      <th>363</th>\n",
       "      <td>2</td>\n",
       "      <td>0</td>\n",
       "      <td>Campbell, Mr. William</td>\n",
       "      <td>male</td>\n",
       "      <td>NaN</td>\n",
       "      <td>0</td>\n",
       "      <td>0</td>\n",
       "      <td>239853</td>\n",
       "      <td>0.0000</td>\n",
       "      <td>NaN</td>\n",
       "      <td>S</td>\n",
       "      <td>NaN</td>\n",
       "      <td>NaN</td>\n",
       "      <td>Belfast</td>\n",
       "    </tr>\n",
       "    <tr>\n",
       "      <th>223</th>\n",
       "      <td>1</td>\n",
       "      <td>0</td>\n",
       "      <td>Parr, Mr. William Henry Marsh</td>\n",
       "      <td>male</td>\n",
       "      <td>NaN</td>\n",
       "      <td>0</td>\n",
       "      <td>0</td>\n",
       "      <td>112052</td>\n",
       "      <td>0.0000</td>\n",
       "      <td>NaN</td>\n",
       "      <td>S</td>\n",
       "      <td>NaN</td>\n",
       "      <td>NaN</td>\n",
       "      <td>Belfast</td>\n",
       "    </tr>\n",
       "    <tr>\n",
       "      <th>170</th>\n",
       "      <td>1</td>\n",
       "      <td>1</td>\n",
       "      <td>Ismay, Mr. Joseph Bruce</td>\n",
       "      <td>male</td>\n",
       "      <td>49.0</td>\n",
       "      <td>0</td>\n",
       "      <td>0</td>\n",
       "      <td>112058</td>\n",
       "      <td>0.0000</td>\n",
       "      <td>B52 B54 B56</td>\n",
       "      <td>S</td>\n",
       "      <td>C</td>\n",
       "      <td>NaN</td>\n",
       "      <td>Liverpool</td>\n",
       "    </tr>\n",
       "    <tr>\n",
       "      <th>1254</th>\n",
       "      <td>3</td>\n",
       "      <td>1</td>\n",
       "      <td>Tornquist, Mr. William Henry</td>\n",
       "      <td>male</td>\n",
       "      <td>25.0</td>\n",
       "      <td>0</td>\n",
       "      <td>0</td>\n",
       "      <td>LINE</td>\n",
       "      <td>0.0000</td>\n",
       "      <td>NaN</td>\n",
       "      <td>S</td>\n",
       "      <td>15</td>\n",
       "      <td>NaN</td>\n",
       "      <td>NaN</td>\n",
       "    </tr>\n",
       "    <tr>\n",
       "      <th>896</th>\n",
       "      <td>3</td>\n",
       "      <td>0</td>\n",
       "      <td>Johnson, Mr. Alfred</td>\n",
       "      <td>male</td>\n",
       "      <td>49.0</td>\n",
       "      <td>0</td>\n",
       "      <td>0</td>\n",
       "      <td>LINE</td>\n",
       "      <td>0.0000</td>\n",
       "      <td>NaN</td>\n",
       "      <td>S</td>\n",
       "      <td>NaN</td>\n",
       "      <td>NaN</td>\n",
       "      <td>NaN</td>\n",
       "    </tr>\n",
       "    <tr>\n",
       "      <th>...</th>\n",
       "      <td>...</td>\n",
       "      <td>...</td>\n",
       "      <td>...</td>\n",
       "      <td>...</td>\n",
       "      <td>...</td>\n",
       "      <td>...</td>\n",
       "      <td>...</td>\n",
       "      <td>...</td>\n",
       "      <td>...</td>\n",
       "      <td>...</td>\n",
       "      <td>...</td>\n",
       "      <td>...</td>\n",
       "      <td>...</td>\n",
       "      <td>...</td>\n",
       "    </tr>\n",
       "    <tr>\n",
       "      <th>302</th>\n",
       "      <td>1</td>\n",
       "      <td>1</td>\n",
       "      <td>Ward, Miss. Anna</td>\n",
       "      <td>female</td>\n",
       "      <td>35.0</td>\n",
       "      <td>0</td>\n",
       "      <td>0</td>\n",
       "      <td>PC 17755</td>\n",
       "      <td>512.3292</td>\n",
       "      <td>NaN</td>\n",
       "      <td>C</td>\n",
       "      <td>3</td>\n",
       "      <td>NaN</td>\n",
       "      <td>NaN</td>\n",
       "    </tr>\n",
       "    <tr>\n",
       "      <th>50</th>\n",
       "      <td>1</td>\n",
       "      <td>1</td>\n",
       "      <td>Cardeza, Mrs. James Warburton Martinez (Charlo...</td>\n",
       "      <td>female</td>\n",
       "      <td>58.0</td>\n",
       "      <td>0</td>\n",
       "      <td>1</td>\n",
       "      <td>PC 17755</td>\n",
       "      <td>512.3292</td>\n",
       "      <td>B51 B53 B55</td>\n",
       "      <td>C</td>\n",
       "      <td>3</td>\n",
       "      <td>NaN</td>\n",
       "      <td>Germantown, Philadelphia, PA</td>\n",
       "    </tr>\n",
       "    <tr>\n",
       "      <th>49</th>\n",
       "      <td>1</td>\n",
       "      <td>1</td>\n",
       "      <td>Cardeza, Mr. Thomas Drake Martinez</td>\n",
       "      <td>male</td>\n",
       "      <td>36.0</td>\n",
       "      <td>0</td>\n",
       "      <td>1</td>\n",
       "      <td>PC 17755</td>\n",
       "      <td>512.3292</td>\n",
       "      <td>B51 B53 B55</td>\n",
       "      <td>C</td>\n",
       "      <td>3</td>\n",
       "      <td>NaN</td>\n",
       "      <td>Austria-Hungary / Germantown, Philadelphia, PA</td>\n",
       "    </tr>\n",
       "    <tr>\n",
       "      <th>183</th>\n",
       "      <td>1</td>\n",
       "      <td>1</td>\n",
       "      <td>Lesurer, Mr. Gustave J</td>\n",
       "      <td>male</td>\n",
       "      <td>35.0</td>\n",
       "      <td>0</td>\n",
       "      <td>0</td>\n",
       "      <td>PC 17755</td>\n",
       "      <td>512.3292</td>\n",
       "      <td>B101</td>\n",
       "      <td>C</td>\n",
       "      <td>3</td>\n",
       "      <td>NaN</td>\n",
       "      <td>NaN</td>\n",
       "    </tr>\n",
       "    <tr>\n",
       "      <th>1225</th>\n",
       "      <td>3</td>\n",
       "      <td>0</td>\n",
       "      <td>Storey, Mr. Thomas</td>\n",
       "      <td>male</td>\n",
       "      <td>60.5</td>\n",
       "      <td>0</td>\n",
       "      <td>0</td>\n",
       "      <td>3701</td>\n",
       "      <td>NaN</td>\n",
       "      <td>NaN</td>\n",
       "      <td>S</td>\n",
       "      <td>NaN</td>\n",
       "      <td>261.0</td>\n",
       "      <td>NaN</td>\n",
       "    </tr>\n",
       "  </tbody>\n",
       "</table>\n",
       "<p>1309 rows × 14 columns</p>\n",
       "</div>"
      ],
      "text/plain": [
       "      pclass  survived                                               name  \\\n",
       "363        2         0                              Campbell, Mr. William   \n",
       "223        1         0                      Parr, Mr. William Henry Marsh   \n",
       "170        1         1                            Ismay, Mr. Joseph Bruce   \n",
       "1254       3         1                       Tornquist, Mr. William Henry   \n",
       "896        3         0                                Johnson, Mr. Alfred   \n",
       "...      ...       ...                                                ...   \n",
       "302        1         1                                   Ward, Miss. Anna   \n",
       "50         1         1  Cardeza, Mrs. James Warburton Martinez (Charlo...   \n",
       "49         1         1                 Cardeza, Mr. Thomas Drake Martinez   \n",
       "183        1         1                             Lesurer, Mr. Gustave J   \n",
       "1225       3         0                                 Storey, Mr. Thomas   \n",
       "\n",
       "         sex   age  sibsp  parch    ticket      fare        cabin embarked  \\\n",
       "363     male   NaN      0      0    239853    0.0000          NaN        S   \n",
       "223     male   NaN      0      0    112052    0.0000          NaN        S   \n",
       "170     male  49.0      0      0    112058    0.0000  B52 B54 B56        S   \n",
       "1254    male  25.0      0      0      LINE    0.0000          NaN        S   \n",
       "896     male  49.0      0      0      LINE    0.0000          NaN        S   \n",
       "...      ...   ...    ...    ...       ...       ...          ...      ...   \n",
       "302   female  35.0      0      0  PC 17755  512.3292          NaN        C   \n",
       "50    female  58.0      0      1  PC 17755  512.3292  B51 B53 B55        C   \n",
       "49      male  36.0      0      1  PC 17755  512.3292  B51 B53 B55        C   \n",
       "183     male  35.0      0      0  PC 17755  512.3292         B101        C   \n",
       "1225    male  60.5      0      0      3701       NaN          NaN        S   \n",
       "\n",
       "     boat   body                                       home.dest  \n",
       "363   NaN    NaN                                         Belfast  \n",
       "223   NaN    NaN                                         Belfast  \n",
       "170     C    NaN                                       Liverpool  \n",
       "1254   15    NaN                                             NaN  \n",
       "896   NaN    NaN                                             NaN  \n",
       "...   ...    ...                                             ...  \n",
       "302     3    NaN                                             NaN  \n",
       "50      3    NaN                    Germantown, Philadelphia, PA  \n",
       "49      3    NaN  Austria-Hungary / Germantown, Philadelphia, PA  \n",
       "183     3    NaN                                             NaN  \n",
       "1225  NaN  261.0                                             NaN  \n",
       "\n",
       "[1309 rows x 14 columns]"
      ]
     },
     "execution_count": 7,
     "metadata": {},
     "output_type": "execute_result"
    }
   ],
   "source": [
    "# 【5】\n",
    "# dfのfareの列で昇順に並び替えて表示\n",
    "print(ans[5]) #回答表示\n",
    "df = initialize1() #初期化\n",
    "print(df)\n",
    "\n",
    "df.sort_values('fare')"
   ]
  },
  {
   "cell_type": "code",
   "execution_count": null,
   "id": "4f527bfa",
   "metadata": {},
   "outputs": [],
   "source": [
    "# 【6】\n",
    "# df_copyにdfをコピーして、最初の5行を表示\n",
    "print(ans[6]) #回答表示\n",
    "df = initialize1() #初期化\n",
    "\n",
    "df_copy = df.copy()\n",
    "df_copy.head()"
   ]
  },
  {
   "cell_type": "code",
   "execution_count": null,
   "id": "9491960d",
   "metadata": {},
   "outputs": [],
   "source": [
    "# 【7】\n",
    "# ① dfの各列のデータ型を確認\n",
    "# ② dfのcabinの列のデータ型を確認\n",
    "print(ans[7]) #回答表示\n",
    "df = initialize1() #初期化\n",
    "\n",
    "print(df.dtypes)\n",
    "print(df['cabin'].dtype)"
   ]
  },
  {
   "cell_type": "code",
   "execution_count": 1,
   "id": "b2a61706",
   "metadata": {},
   "outputs": [
    {
     "ename": "NameError",
     "evalue": "name 'ans' is not defined",
     "output_type": "error",
     "traceback": [
      "\u001b[0;31m---------------------------------------------------------------------------\u001b[0m",
      "\u001b[0;31mNameError\u001b[0m                                 Traceback (most recent call last)",
      "Cell \u001b[0;32mIn[1], line 4\u001b[0m\n\u001b[1;32m      1\u001b[0m \u001b[38;5;66;03m# 【8】\u001b[39;00m\n\u001b[1;32m      2\u001b[0m \u001b[38;5;66;03m# ① dfのpclassの列のデータ型をdtypeで確認\u001b[39;00m\n\u001b[1;32m      3\u001b[0m \u001b[38;5;66;03m# ② 数値型から文字型に変換し、データ型をdtypeで確認\u001b[39;00m\n\u001b[0;32m----> 4\u001b[0m \u001b[38;5;28mprint\u001b[39m(\u001b[43mans\u001b[49m[\u001b[38;5;241m8\u001b[39m]) \u001b[38;5;66;03m#回答表示\u001b[39;00m\n\u001b[1;32m      5\u001b[0m df \u001b[38;5;241m=\u001b[39m initialize1() \u001b[38;5;66;03m#初期化\u001b[39;00m\n\u001b[1;32m      7\u001b[0m \u001b[38;5;28mprint\u001b[39m(df[\u001b[38;5;124m'\u001b[39m\u001b[38;5;124mpclass\u001b[39m\u001b[38;5;124m'\u001b[39m]\u001b[38;5;241m.\u001b[39mdtype)\n",
      "\u001b[0;31mNameError\u001b[0m: name 'ans' is not defined"
     ]
    }
   ],
   "source": [
    "# 【8】\n",
    "# ① dfのpclassの列のデータ型をdtypeで確認\n",
    "# ② 数値型から文字型に変換し、データ型をdtypeで確認\n",
    "print(ans[8]) #回答表示\n",
    "df = initialize1() #初期化\n",
    "\n",
    "print(df['pclass'].dtype)\n",
    "df['pclass'] = df['pclass'].astype(str)\n",
    "print(df['pclass'].dtype)"
   ]
  },
  {
   "cell_type": "code",
   "execution_count": null,
   "id": "72465f85",
   "metadata": {},
   "outputs": [],
   "source": [
    "# 【9】\n",
    "# dfのレコード数(行数)を確認\n",
    "print(ans[9]) #回答表示\n",
    "df = initialize1() #初期化\n",
    "\n",
    "len(df)"
   ]
  },
  {
   "cell_type": "code",
   "execution_count": null,
   "id": "e86c6c57",
   "metadata": {},
   "outputs": [],
   "source": [
    "# 【10】\n",
    "# dfのレコード数(行数)、各列のデータ型、欠損値の有無を確認\n",
    "print(ans[10]) #回答表示\n",
    "df = initialize1() #初期化\n",
    "\n",
    "df.info()"
   ]
  },
  {
   "cell_type": "code",
   "execution_count": null,
   "id": "a3622329",
   "metadata": {},
   "outputs": [],
   "source": [
    "# 【11】\n",
    "# dfのsex,cabinの列の要素を確認\n",
    "print(ans[11]) #回答表示\n",
    "df = initialize1() #初期化\n",
    "\n",
    "print(df['sex'].unique())\n",
    "print(df['cabin'].unique())"
   ]
  },
  {
   "cell_type": "code",
   "execution_count": null,
   "id": "32edc518",
   "metadata": {},
   "outputs": [],
   "source": [
    "# 【12】\n",
    "# dfの列名一覧をlist形式で表示\n",
    "print(ans[12]) #回答表示\n",
    "df = initialize1() #初期化\n",
    "\n",
    "df.columns.tolist()"
   ]
  },
  {
   "cell_type": "code",
   "execution_count": null,
   "id": "42780014",
   "metadata": {},
   "outputs": [],
   "source": [
    "# 【13】\n",
    "# dfのインデックス一覧をndaaray形式で表示\n",
    "print(ans[13]) #回答表示\n",
    "df = initialize1() #初期化#\n",
    "\n",
    "df.index.values"
   ]
  },
  {
   "cell_type": "markdown",
   "id": "733ed862",
   "metadata": {},
   "source": [
    "# データ抽出 (14 - 32)"
   ]
  },
  {
   "cell_type": "code",
   "execution_count": null,
   "id": "45dba2ea",
   "metadata": {},
   "outputs": [],
   "source": [
    "# 【14】\n",
    "# dfのnameの列のみ表示\n",
    "print(ans[14]) #回答表示\n",
    "df = initialize1() #初期化\n",
    "\n",
    "df['name']"
   ]
  },
  {
   "cell_type": "code",
   "execution_count": null,
   "id": "73f0db7d",
   "metadata": {},
   "outputs": [],
   "source": [
    "# 【15】\n",
    "# dfのnameとsexの列のみ表示\n",
    "print(ans[15]) #回答表示\n",
    "df = initialize1() #初期化\n",
    "\n",
    "df[['name','sex']]"
   ]
  },
  {
   "cell_type": "code",
   "execution_count": null,
   "id": "f0b3f391",
   "metadata": {},
   "outputs": [],
   "source": [
    "# 【16】\n",
    "# dfのindex(行)の4行目までを表示\n",
    "print(ans[16]) #回答表示\n",
    "df = initialize1() #初期化\n",
    "\n",
    "df[:4]"
   ]
  },
  {
   "cell_type": "code",
   "execution_count": null,
   "id": "7f4d482c",
   "metadata": {},
   "outputs": [],
   "source": [
    "# 【17】\n",
    "# dfのindex(行)の4行目から10行目までを表示\n",
    "print(ans[17]) #回答表示\n",
    "df = initialize1() #初期化\n",
    "\n",
    "df[3:10]"
   ]
  },
  {
   "cell_type": "code",
   "execution_count": null,
   "id": "1934579c",
   "metadata": {},
   "outputs": [],
   "source": [
    "# 【18】\n",
    "# locを使ってdf全体を表示\n",
    "print(ans[18]) #回答表示\n",
    "df = initialize1() #初期化\n",
    "\n",
    "df.loc[:,:]"
   ]
  },
  {
   "cell_type": "code",
   "execution_count": null,
   "id": "4ba868a3",
   "metadata": {},
   "outputs": [],
   "source": [
    "# 【19】\n",
    "# locを使ってdfのfare列をすべて表示\n",
    "print(ans[19]) #回答表示\n",
    "df = initialize1() #初期化\n",
    "\n",
    "df.loc[:,'fare']"
   ]
  },
  {
   "cell_type": "code",
   "execution_count": null,
   "id": "f713fba0",
   "metadata": {},
   "outputs": [],
   "source": [
    "# 【20】\n",
    "# locを使ってdfのfare列の10のラベルまで表示\n",
    "print(ans[20]) #回答表示\n",
    "df = initialize1() #初期化\n",
    "\n",
    "df.loc[:10,'fare']"
   ]
  },
  {
   "cell_type": "code",
   "execution_count": null,
   "id": "c9478f28",
   "metadata": {},
   "outputs": [],
   "source": [
    "# 【21】\n",
    "# locを使ってdfのnameとticketの列をすべて表示\n",
    "print(ans[21]) #回答表示\n",
    "df = initialize1() #初期化\n",
    "\n",
    "df.loc[:,['name','ticket']]"
   ]
  },
  {
   "cell_type": "code",
   "execution_count": null,
   "id": "01b6df84",
   "metadata": {},
   "outputs": [],
   "source": [
    "# 【22】\n",
    "# locを使ってdfのnameからcabinまでの列をすべて表示\n",
    "print(ans[22]) #回答表示\n",
    "df = initialize1() #初期化\n",
    "\n",
    "df.loc[:,'name':'cabin']"
   ]
  },
  {
   "cell_type": "code",
   "execution_count": null,
   "id": "8b5409ee",
   "metadata": {},
   "outputs": [],
   "source": [
    "# 【23】\n",
    "# ilocを使ってdfのage列を5行目まで表示\n",
    "print(ans[23]) #回答表示\n",
    "df = initialize1() #初期化\n",
    "\n",
    "df.iloc[:5,4]"
   ]
  },
  {
   "cell_type": "code",
   "execution_count": null,
   "id": "633dac72",
   "metadata": {},
   "outputs": [],
   "source": [
    "# 【24】\n",
    "# dfのname,age,sexの列のみ抽出しdf_copyに格納\n",
    "# その後outputフォルダにcsvファイルで出力\n",
    "# 出力ファイル名はsample.csv\n",
    "print(ans[24]) #回答表示\n",
    "df = initialize1() #初期化\n",
    "\n",
    "df_copy = df[['name','age','sex']]\n",
    "df_copy.to_csv('../output/sample.csv')"
   ]
  },
  {
   "cell_type": "code",
   "execution_count": null,
   "id": "6a39b6da",
   "metadata": {},
   "outputs": [],
   "source": [
    "# 【25】\n",
    "# dfのage列の値が30以上のデータのみ抽出\n",
    "print(ans[25]) #回答表示\n",
    "df = initialize1() #初期化\n",
    "\n",
    "df[df['age'] >= 30]"
   ]
  },
  {
   "cell_type": "code",
   "execution_count": null,
   "id": "c7b42a8f",
   "metadata": {},
   "outputs": [],
   "source": [
    "# 【26】\n",
    "# dfのsex列がfemaleのデータのみ抽出\n",
    "print(ans[26]) #回答表示\n",
    "df = initialize1() #初期化\n",
    "\n",
    "df[df['sex'] == 'female']"
   ]
  },
  {
   "cell_type": "code",
   "execution_count": null,
   "id": "923e25e6",
   "metadata": {},
   "outputs": [],
   "source": [
    "# 【27】\n",
    "# dfのsex列がfemaleでかつageが40以上のデータのみ抽出\n",
    "print(ans[27]) #回答表示\n",
    "df = initialize1() #初期化\n",
    "\n",
    "df[(df['sex'] == 'female' ) & (df['age'] >= 40)]"
   ]
  },
  {
   "cell_type": "code",
   "execution_count": null,
   "id": "df11f23d",
   "metadata": {},
   "outputs": [],
   "source": [
    "# 【28】\n",
    "# queryを用いてdfのsex列がfemaleでかつageが40以上のデータのみ抽出\n",
    "print(ans[28]) #回答表示\n",
    "df = initialize1() #初期化\n",
    "\n",
    "df.query('sex == \"female\" & age >= 40 ')"
   ]
  },
  {
   "cell_type": "code",
   "execution_count": null,
   "id": "3eb5aa41",
   "metadata": {},
   "outputs": [],
   "source": [
    "# 【29】\n",
    "# dfのname列に文字列「Mrs」が含まれるデータを表示\n",
    "print(ans[29]) #回答表示\n",
    "df = initialize1() #初期化\n",
    "\n",
    "df.query('name.str.contains(\"Mrs\")', engine='python')"
   ]
  },
  {
   "cell_type": "code",
   "execution_count": null,
   "id": "0623d9ec",
   "metadata": {},
   "outputs": [],
   "source": [
    "# 【30】\n",
    "# dfの中で文字列型の列のみを表示\n",
    "print(ans[30]) #回答表示\n",
    "df = initialize1() #初期化\n",
    "\n",
    "df.select_dtypes(include='object')"
   ]
  },
  {
   "cell_type": "code",
   "execution_count": null,
   "id": "23dfa15b",
   "metadata": {},
   "outputs": [],
   "source": [
    "# 【31】\n",
    "# dfの各列の要素数の確認\n",
    "print(ans[31]) #回答表示\n",
    "df = initialize1() #初期化\n",
    "\n",
    "df.nunique()"
   ]
  },
  {
   "cell_type": "code",
   "execution_count": null,
   "id": "224a2856",
   "metadata": {},
   "outputs": [],
   "source": [
    "# 【32】\n",
    "# dfのembarked列の要素と出現回数の確認\n",
    "print(ans[32]) #回答表示\n",
    "df = initialize1() #初期化\n",
    "\n",
    "df['embarked'].value_counts()"
   ]
  },
  {
   "cell_type": "markdown",
   "id": "427341d3",
   "metadata": {},
   "source": [
    "# データ加工 (33 - 58)"
   ]
  },
  {
   "cell_type": "code",
   "execution_count": null,
   "id": "015e93d1",
   "metadata": {},
   "outputs": [],
   "source": [
    "# 【33】\n",
    "# dfのindex名が「3」のage列を\n",
    "# 30から40に変更し、先頭の5行を表示\n",
    "print(ans[33]) #回答表示\n",
    "df = initialize1() #初期化\n",
    "\n",
    "df.loc[3,'age'] = 40\n",
    "df.head()"
   ]
  },
  {
   "cell_type": "code",
   "execution_count": null,
   "id": "2b579020",
   "metadata": {},
   "outputs": [],
   "source": [
    "# 【34】\n",
    "# dfのsex列にてmale→0、femlae→1に\n",
    "# 変更し、先頭の5行を表示\n",
    "print(ans[34]) #回答表示\n",
    "df = initialize1() #初期化\n",
    "\n",
    "df['sex'][df['sex'] == 'male'] = 0\n",
    "df['sex'][df['sex'] == 'female'] = 1\n",
    "df.head()"
   ]
  },
  {
   "cell_type": "code",
   "execution_count": null,
   "id": "7ce9ff07",
   "metadata": {},
   "outputs": [],
   "source": [
    "# 【35】\n",
    "# dfのfare列に100を足して、\n",
    "# 先頭の5行を表示\n",
    "print(ans[35]) #回答表示\n",
    "df = initialize1() #初期化\n",
    "\n",
    "df['fare'] = df['fare'] + 100\n",
    "df.head()"
   ]
  },
  {
   "cell_type": "code",
   "execution_count": null,
   "id": "f98c9328",
   "metadata": {},
   "outputs": [],
   "source": [
    "# 【36】\n",
    "# dfのfare列に2を掛けて、\n",
    "# 先頭の5行を表示\n",
    "print(ans[36]) #回答表示\n",
    "df = initialize1() #初期化\n",
    "\n",
    "df['fare'] = df['fare'] * 2\n",
    "df.head()"
   ]
  },
  {
   "cell_type": "code",
   "execution_count": null,
   "id": "4c3e6294",
   "metadata": {},
   "outputs": [],
   "source": [
    "# 【37】\n",
    "# dfのfare列を小数点以下で丸めて、先頭の5行を表示\n",
    "print(ans[37]) #回答表示\n",
    "df = initialize1() #初期化\n",
    "\n",
    "df['fare'] = df['fare'].round()\n",
    "df.head()"
   ]
  },
  {
   "cell_type": "code",
   "execution_count": null,
   "id": "6f1b393c",
   "metadata": {},
   "outputs": [],
   "source": [
    "# 【38】\n",
    "# dfに列名「test」で値がすべて1の\n",
    "# カラムを追加し、先頭の5行を表示\n",
    "print(ans[38]) #回答表示\n",
    "df = initialize1() #初期化\n",
    "\n",
    "df['test'] = 1\n",
    "df.head()"
   ]
  },
  {
   "cell_type": "code",
   "execution_count": null,
   "id": "7d4c14d7",
   "metadata": {},
   "outputs": [],
   "source": [
    "# 【39】\n",
    "# dfにcabinとembarkedの列を「_」で\n",
    "# 結合した列を追加(列名は「test」)し、\n",
    "# 先頭の5行を表示\n",
    "print(ans[39]) #回答表示\n",
    "df = initialize1() #初期化\n",
    "\n",
    "df['test'] = df['cabin'].str.cat(df['embarked'],sep='_')\n",
    "df.head()"
   ]
  },
  {
   "cell_type": "code",
   "execution_count": null,
   "id": "a9aed597",
   "metadata": {},
   "outputs": [],
   "source": [
    "# 【40】\n",
    "# dfにageとembarkedの列を「_」で\n",
    "# 結合した列を追加(列名は「test」)し、\n",
    "# 先頭の5行を表示\n",
    "print(ans[40]) #回答表示\n",
    "df = initialize1() #初期化\n",
    "\n",
    "df['test'] = df['age'].astype(str).str.cat(df['embarked'],sep='_')\n",
    "df.head()"
   ]
  },
  {
   "cell_type": "code",
   "execution_count": null,
   "id": "7e201cbb",
   "metadata": {},
   "outputs": [],
   "source": [
    "# 【41】\n",
    "# dfからbodyの列を削除し、最初の5行を表示\n",
    "print(ans[41]) #回答表示\n",
    "df = initialize1() #初期化\n",
    "\n",
    "df = df.drop('body',axis=1)\n",
    "df.head()"
   ]
  },
  {
   "cell_type": "code",
   "execution_count": null,
   "id": "da807596",
   "metadata": {},
   "outputs": [],
   "source": [
    "# 【42】\n",
    "# dfからインデックス名「3」の行を削除し、最初の5行を表示\n",
    "print(ans[42]) #回答表示\n",
    "df = initialize1() #初期化\n",
    "\n",
    "df = df.drop(3,axis=0)\n",
    "df.head()"
   ]
  },
  {
   "cell_type": "code",
   "execution_count": null,
   "id": "4f615f8f",
   "metadata": {},
   "outputs": [],
   "source": [
    "# 【43】\n",
    "# df2の列名を'name', 'class', 'Biology', 'Physics', 'Chemistry'に変更\n",
    "# df2の最初の5行を表示\n",
    "print(ans[43]) #回答表示\n",
    "df2 = initialize2() #初期化\n",
    "\n",
    "df2.columns = ['name', 'class', 'Biology', 'Physics', 'Chemistry']\n",
    "df2.head()"
   ]
  },
  {
   "cell_type": "code",
   "execution_count": null,
   "id": "25986409",
   "metadata": {},
   "outputs": [],
   "source": [
    "# 【44】\n",
    "# df2の列名を'English'をBiology'に変更\n",
    "# df2の最初の5行を表示\n",
    "print(ans[44]) #回答表示\n",
    "df2 = initialize2() #初期化\n",
    "\n",
    "df2 = df2.rename(columns={'English' : 'Biology'})\n",
    "df2.head()"
   ]
  },
  {
   "cell_type": "code",
   "execution_count": null,
   "id": "decbc6ba",
   "metadata": {},
   "outputs": [],
   "source": [
    "# 【45】\n",
    "# df2のインデックス名「1」を「10」に変更\n",
    "# df2の最初の5行を表示\n",
    "print(ans[45]) #回答表示\n",
    "df2 = initialize2() #初期化\n",
    "\n",
    "df2 = df2.rename(index={1 : 10})\n",
    "df2.head()"
   ]
  },
  {
   "cell_type": "code",
   "execution_count": null,
   "id": "f934faba",
   "metadata": {},
   "outputs": [],
   "source": [
    "# 【46】\n",
    "# dfのすべての列の欠損値数を確認\n",
    "print(ans[46]) #回答表示\n",
    "df = initialize1() #初期化\n",
    "\n",
    "df.isnull().sum()"
   ]
  },
  {
   "cell_type": "code",
   "execution_count": null,
   "id": "41a474c2",
   "metadata": {},
   "outputs": [],
   "source": [
    "# 【47】\n",
    "# dfのage列の欠損値に30を代入\n",
    "# その後、ageの欠損値数を確認\n",
    "print(ans[47]) #回答表示\n",
    "df = initialize1() #初期化\n",
    "\n",
    "df['age'] = df['age'].fillna(30)\n",
    "df['age'].isnull().sum()"
   ]
  },
  {
   "cell_type": "code",
   "execution_count": null,
   "id": "de137d43",
   "metadata": {},
   "outputs": [],
   "source": [
    "# 【48】\n",
    "# dfでひとつでも欠損値がある行を削除\n",
    "# その後、dfの欠損値数を確認\n",
    "print(ans[48]) #回答表示\n",
    "df = initialize1() #初期化\n",
    "\n",
    "df = df.dropna()\n",
    "df.isnull().sum()"
   ]
  },
  {
   "cell_type": "code",
   "execution_count": null,
   "id": "a6032d6b",
   "metadata": {},
   "outputs": [],
   "source": [
    "# 【49】\n",
    "# dfのsurvivedの列をndarray形式(配列)で表示\n",
    "print(ans[49]) #回答表示\n",
    "df = initialize1() #初期化\n",
    "\n",
    "df['survived'].values"
   ]
  },
  {
   "cell_type": "code",
   "execution_count": null,
   "id": "73e8c43d",
   "metadata": {},
   "outputs": [],
   "source": [
    "# 【50】\n",
    "# dfの行をシャッフルして表示\n",
    "print(ans[50]) #回答表示\n",
    "df = initialize1() #初期化\n",
    "\n",
    "df.sample(frac=1)"
   ]
  },
  {
   "cell_type": "code",
   "execution_count": null,
   "id": "8555d1d1",
   "metadata": {},
   "outputs": [],
   "source": [
    "# 【51】\n",
    "# dfの行をシャッフルし、インデックスを振り直して表示\n",
    "print(ans[51]) #回答表示\n",
    "df = initialize1() #初期化\n",
    "\n",
    "df.sample(frac=1).reset_index()"
   ]
  },
  {
   "cell_type": "code",
   "execution_count": null,
   "id": "1c781c34",
   "metadata": {},
   "outputs": [],
   "source": [
    "# 【52】\n",
    "# ①df2の重複行数をカウント\n",
    "# ②df2の重複行を削除し、df2を表示\n",
    "print(ans[52]) #回答表示\n",
    "df2 = initialize2() #初期化\n",
    "\n",
    "print(df2.duplicated().value_counts())\n",
    "df2 = df2.drop_duplicates()\n",
    "df2"
   ]
  },
  {
   "cell_type": "code",
   "execution_count": null,
   "id": "a623fc53",
   "metadata": {},
   "outputs": [],
   "source": [
    "# 【53】\n",
    "# dfのnameの列をすべて大文字に変換し表示\n",
    "print(ans[53]) #回答表示\n",
    "df = initialize1() #初期化\n",
    "\n",
    "df['name'].str.upper()"
   ]
  },
  {
   "cell_type": "code",
   "execution_count": null,
   "id": "42d694b7",
   "metadata": {},
   "outputs": [],
   "source": [
    "# 【54】\n",
    "# dfのnameの列をすべて小文字に変換し表示\n",
    "print(ans[54]) #回答表示\n",
    "df = initialize1() #初期化\n",
    "\n",
    "df['name'].str.lower()"
   ]
  },
  {
   "cell_type": "code",
   "execution_count": null,
   "id": "e4ee5763",
   "metadata": {},
   "outputs": [],
   "source": [
    "# 【55】\n",
    "# dfのsex列に含まれる「female」という単語を\n",
    "# 「Python」に置換。その後、1行目の\n",
    "# 「female」が「Python」に置き換わったことを確認\n",
    "print(ans[55]) #回答表示\n",
    "df = initialize1() #初期化\n",
    "\n",
    "df['sex'] = df['sex'].replace('female','Python')\n",
    "df.head()"
   ]
  },
  {
   "cell_type": "code",
   "execution_count": null,
   "id": "509456eb",
   "metadata": {},
   "outputs": [],
   "source": [
    "# 【56】\n",
    "# dfのname列1行目の「Allen, Miss. Elisabeth Walton」の\n",
    "# 「Elisabeth」を消去(import reをインポート)\n",
    "print(ans[56]) #回答表示\n",
    "df = initialize1() #初期化\n",
    "\n",
    "import re\n",
    "df['name'][0] = re.sub('Elisabeth','',df['name'][0])\n",
    "df['name'][0]"
   ]
  },
  {
   "cell_type": "code",
   "execution_count": null,
   "id": "6d4e2ef0",
   "metadata": {},
   "outputs": [],
   "source": [
    "# 【57】\n",
    "# df5の都道府県列と市区町村列を空白がないように\n",
    "# 「_」で結合(新規列名は「test2」)し、先頭5行を表示\n",
    "# ※df5の「test」列は通常通り結合した場合の結果\n",
    "print(ans[57]) #回答表示\n",
    "\n",
    "df5['test2'] = df5['都道府県'].str.rstrip() +'_'+ df5['市区町村']\n",
    "df5.head()"
   ]
  },
  {
   "cell_type": "code",
   "execution_count": null,
   "id": "37be572f",
   "metadata": {},
   "outputs": [],
   "source": [
    "# 【58】\n",
    "# df2の行と列を入れ替えて表示\n",
    "print(ans[58]) #回答表示\n",
    "df2 = initialize2() #初期化\n",
    "\n",
    "df2 = df2.transpose()\n",
    "df2"
   ]
  },
  {
   "cell_type": "markdown",
   "id": "188b56da",
   "metadata": {},
   "source": [
    "# マージと連結(59 - 65)"
   ]
  },
  {
   "cell_type": "code",
   "execution_count": null,
   "id": "92a489da",
   "metadata": {},
   "outputs": [],
   "source": [
    "# 【59】\n",
    "# df2にdf3を左結合（結合キーはname）し、df2に格納\n",
    "print(ans[59]) #回答表示\n",
    "df2 = initialize2() #初期化\n",
    "\n",
    "df2 = pd.merge(df2,df3,on='name',how='left')\n",
    "df2"
   ]
  },
  {
   "cell_type": "code",
   "execution_count": null,
   "id": "9c6b2f6e",
   "metadata": {},
   "outputs": [],
   "source": [
    "# 【60】\n",
    "# df2にdf3を右結合（結合キーはname）し、df2に格納\n",
    "print(ans[60]) #回答表示\n",
    "df2 = initialize2() #初期化\n",
    "\n",
    "df2 = pd.merge(df2,df3,on='name',how='right')\n",
    "df2"
   ]
  },
  {
   "cell_type": "code",
   "execution_count": null,
   "id": "fcc957ae",
   "metadata": {},
   "outputs": [],
   "source": [
    "# 【61】\n",
    "# df2にdf3を内部結合（結合キーはname）し、df2に格納\n",
    "print(ans[61]) #回答表示\n",
    "df2 = initialize2() #初期化\n",
    "\n",
    "df2 = pd.merge(df2,df3,on='name',how='inner')\n",
    "df2"
   ]
  },
  {
   "cell_type": "code",
   "execution_count": null,
   "id": "170d5ec9",
   "metadata": {},
   "outputs": [],
   "source": [
    "# 【62】\n",
    "# df2にdf3を外部結合し、df2に格納\n",
    "print(ans[62]) #回答表示\n",
    "df2 = initialize2() #初期化\n",
    "\n",
    "df2 = pd.merge(df2,df3,on='name',how='outer')\n",
    "df2"
   ]
  },
  {
   "cell_type": "code",
   "execution_count": null,
   "id": "8a4c9336",
   "metadata": {},
   "outputs": [],
   "source": [
    "# 【63】\n",
    "# df2とdf4を列方向に連結し、df2に格納\n",
    "print(ans[63]) #回答表示\n",
    "df2 = initialize2() #初期化\n",
    "\n",
    "df2 = pd.concat([df2,df4],axis=1)\n",
    "df2"
   ]
  },
  {
   "cell_type": "code",
   "execution_count": null,
   "id": "89803a5b",
   "metadata": {},
   "outputs": [],
   "source": [
    "# 【64】\n",
    "# df2とdf4を列方向に連結後、重複している\n",
    "# name列の片方を削除し、df2に格納\n",
    "print(ans[64]) #回答表示\n",
    "df2 = initialize2() #初期化\n",
    "\n",
    "df2 = pd.concat([df2,df4],axis=1)\n",
    "df2 = df2.loc[:,~df2.columns.duplicated()]\n",
    "df2"
   ]
  },
  {
   "cell_type": "code",
   "execution_count": null,
   "id": "03cb9307",
   "metadata": {},
   "outputs": [],
   "source": [
    "# 【65】\n",
    "# df2とdf4を行方向に連結し、df2に格納\n",
    "print(ans[65]) #回答表示\n",
    "df2 = initialize2() #初期化\n",
    "\n",
    "df2 = pd.concat([df2,df4],axis=0)\n",
    "df2"
   ]
  },
  {
   "cell_type": "markdown",
   "id": "69715d5e",
   "metadata": {},
   "source": [
    "# 統計 (66 - 79)"
   ]
  },
  {
   "cell_type": "code",
   "execution_count": null,
   "id": "26927e3c",
   "metadata": {},
   "outputs": [],
   "source": [
    "# 【66】\n",
    "# dfのage列の平均値を確認\n",
    "print(ans[66]) #回答表示\n",
    "df = initialize1() #初期化\n",
    "\n",
    "df['age'].mean()"
   ]
  },
  {
   "cell_type": "code",
   "execution_count": null,
   "id": "dabc0e2e",
   "metadata": {},
   "outputs": [],
   "source": [
    "# 【67】\n",
    "# dfのage列の中央値を確認\n",
    "print(ans[67]) #回答表示\n",
    "df = initialize1() #初期化\n",
    "\n",
    "df['age'].median()"
   ]
  },
  {
   "cell_type": "code",
   "execution_count": null,
   "id": "3aa9a5e3",
   "metadata": {},
   "outputs": [],
   "source": [
    "# 【68】\n",
    "# ①df2の生徒ごとの合計点（行方向の合計）\n",
    "# ②df2の科目ごとの点数の総和（列方向の合計）\n",
    "print(ans[68]) #回答表示\n",
    "df2 = initialize2() #初期化\n",
    "\n",
    "df2 = df2.drop(['class'],axis=1)\n",
    "print(df2.sum(axis=1)) #行方向の合計\n",
    "print(df2.sum()) #列方向の合計"
   ]
  },
  {
   "cell_type": "code",
   "execution_count": null,
   "id": "069b0eec",
   "metadata": {},
   "outputs": [],
   "source": [
    "# 【69】\n",
    "# df2のEnglishで得点の最大値\n",
    "print(ans[69]) #回答表示\n",
    "df2 = initialize2() #初期化\n",
    "\n",
    "df2['English'].max()"
   ]
  },
  {
   "cell_type": "code",
   "execution_count": null,
   "id": "89ee56f7",
   "metadata": {},
   "outputs": [],
   "source": [
    "# 【70】\n",
    "# df2のEnglishで得点の最小値\n",
    "print(ans[70]) #回答表示\n",
    "df2 = initialize2() #初期化\n",
    "\n",
    "df2['English'].min()"
   ]
  },
  {
   "cell_type": "code",
   "execution_count": null,
   "id": "a1275c95",
   "metadata": {},
   "outputs": [],
   "source": [
    "# 【71】\n",
    "# df2においてclassでグルーピングし、クラスごとの科目の\n",
    "# 最大値、最小値、平均値を求める(name列は削除しておく)\n",
    "print(ans[71]) #回答表示\n",
    "df2 = initialize2() #初期化\n",
    "\n",
    "df2 =df2.drop('name',axis=1)\n",
    "print(df2.groupby('class').max())\n",
    "print(df2.groupby('class').min())\n",
    "print(df2.groupby('class').mean())"
   ]
  },
  {
   "cell_type": "code",
   "execution_count": null,
   "id": "b5cf8eab",
   "metadata": {},
   "outputs": [],
   "source": [
    "# 【72】\n",
    "# dfの基本統計量を確認(describe)\n",
    "print(ans[72]) #回答表示\n",
    "df = initialize1() #初期化\n",
    "\n",
    "df.describe()"
   ]
  },
  {
   "cell_type": "code",
   "execution_count": null,
   "id": "58b17e09",
   "metadata": {},
   "outputs": [],
   "source": [
    "# 【73】\n",
    "# dfの各列間の(Pearson)相関係数を確認\n",
    "print(ans[73]) #回答表示\n",
    "df = initialize1() #初期化\n",
    "\n",
    "df.corr()"
   ]
  },
  {
   "cell_type": "code",
   "execution_count": null,
   "id": "3800a168",
   "metadata": {},
   "outputs": [],
   "source": [
    "# 【74】\n",
    "# scikit-learnを用いてdf2のEnglish、Mathematics、History列を標準化する\n",
    "# (from sklearn.preprocessing import StandardScalerをインポート)\n",
    "print(ans[74]) #回答表示\n",
    "df2 = initialize2() #初期化\n",
    "\n",
    "from sklearn.preprocessing import StandardScaler\n",
    "\n",
    "df2 = df2.drop(['name','class'],axis=1) #不要列の削除\n",
    "\n",
    "#標準化を定義\n",
    "scaler = StandardScaler()\n",
    "scaler.fit(df2)\n",
    "\n",
    "#変換とデータフレームへの置換\n",
    "scaler.transform(df2) # 変換のみ\n",
    "df2_std = pd.DataFrame(scaler.transform(df2), columns=df2.columns) # 変換とデータフレームへの置換をまとめて行うとこうなる\n",
    "\n",
    "df2_std.describe() #stdが等しくなっていることを確認"
   ]
  },
  {
   "cell_type": "code",
   "execution_count": null,
   "id": "7a92216c",
   "metadata": {},
   "outputs": [],
   "source": [
    "# 【75】\n",
    "# scikit-learnを用いてdf2のEnglish列を標準化する\n",
    "# (from sklearn.preprocessing import StandardScalerをインポート)\n",
    "print(ans[75]) #回答表示\n",
    "df2 = initialize2() #初期化\n",
    "\n",
    "from sklearn.preprocessing import StandardScaler\n",
    "\n",
    "#標準化を定義\n",
    "scaler = StandardScaler()\n",
    "scaler.fit(df2['English'].values.reshape(-1,1))\n",
    "\n",
    "#変換とデータフレームへの置換\n",
    "scaler.transform(df2['English'].values.reshape(-1,1)) # 変換のみ\n",
    "df2_std = pd.DataFrame(scaler.transform(df2['English'].values.reshape(-1,1))) # 変換とデータフレームへの置換をまとめて行うとこうなる\n",
    "\n",
    "df2_std.describe() #stdが【74】のEnglishと等しくなっていることを確認"
   ]
  },
  {
   "cell_type": "code",
   "execution_count": null,
   "id": "128e0241",
   "metadata": {},
   "outputs": [],
   "source": [
    "# 【76】\n",
    "# scikit-learnを用いてdf2のEnglish、Mathematics、History列を\n",
    "# Min-Maxスケーリングする\n",
    "# (from sklearn.preprocessing import MinMaxScalerをインポート)\n",
    "print(ans[76]) #回答表示\n",
    "df2 = initialize2() #初期化\n",
    "\n",
    "from sklearn.preprocessing import MinMaxScaler\n",
    "\n",
    "df2 = df2.drop(['name','class'],axis=1) #不要列の削除\n",
    "\n",
    "# Min-Maxスケーリングを定義\n",
    "scaler = MinMaxScaler()\n",
    "scaler.fit(df2)\n",
    "\n",
    "# 変換とデータフレームへの置換\n",
    "scaler.transform(df2) # 変換のみ\n",
    "df2_std = pd.DataFrame(scaler.transform(df2), columns=df2.columns) # 変換とデータフレームへの置換をまとめて行うとこうなる\n",
    "\n",
    "df2_std.describe() #minが0、maxが1になっていることを確認"
   ]
  },
  {
   "cell_type": "code",
   "execution_count": null,
   "id": "7e2f9642",
   "metadata": {},
   "outputs": [],
   "source": [
    "# 【77】\n",
    "# dfのfare列の最大値、最小値の行名を取得\n",
    "print(ans[77]) #回答表示\n",
    "df = initialize1() #初期化\n",
    "\n",
    "print(df['fare'].idxmax())\n",
    "print(df['fare'].idxmin())"
   ]
  },
  {
   "cell_type": "code",
   "execution_count": null,
   "id": "11b6ebd6",
   "metadata": {},
   "outputs": [],
   "source": [
    "# 【78】\n",
    "# dfのfare列の0、25、50、75、100パーセンタイルを取得\n",
    "print(ans[78]) #回答表示\n",
    "df = initialize1() #初期化\n",
    "\n",
    "print(df['fare'].quantile([0, 0.25, 0.5, 0.75, 1.0]))"
   ]
  },
  {
   "cell_type": "code",
   "execution_count": null,
   "id": "0461a6e9",
   "metadata": {},
   "outputs": [],
   "source": [
    "# 【79】\n",
    "# ①dfのage列の最頻値を取得\n",
    "# ②value_counts()にてage列の要素数を\n",
    "# 確認し、①の結果の妥当性を確認\n",
    "print(ans[79]) #回答表示\n",
    "df = initialize1() #初期化\n",
    "\n",
    "print(df['age'].mode())\n",
    "print(df['age'].value_counts())"
   ]
  },
  {
   "cell_type": "markdown",
   "id": "bccb295a",
   "metadata": {},
   "source": [
    "# ラベリング (80 - 81)"
   ]
  },
  {
   "cell_type": "code",
   "execution_count": null,
   "id": "e42d13f9",
   "metadata": {},
   "outputs": [],
   "source": [
    "# 【80】\n",
    "# dfのsex列をラベルエンコーディングし、\n",
    "# dfの先頭5行を表示\n",
    "# (from sklearn.preprocessing import LabelEncoderをインポート)\n",
    "print(ans[80]) #回答表示\n",
    "df = initialize1() #初期化\n",
    "\n",
    "from sklearn.preprocessing import LabelEncoder\n",
    "\n",
    "le = LabelEncoder() #ラベルエンコーダのインスタンスを作成\n",
    "\n",
    "df['sex'] = le.fit_transform(df['sex']) #エンコーディング\n",
    "df.head()"
   ]
  },
  {
   "cell_type": "code",
   "execution_count": null,
   "id": "058c1251",
   "metadata": {},
   "outputs": [],
   "source": [
    "# 【81】\n",
    "# dfのsex列をOne-hotエンコーディングし、\n",
    "# dfの先頭5行を表示\n",
    "print(ans[81]) #回答表示\n",
    "df = initialize1() #初期化\n",
    "\n",
    "df = pd.get_dummies(df, columns=['sex'])\n",
    "df.head()"
   ]
  },
  {
   "cell_type": "markdown",
   "id": "b3c2cdc6",
   "metadata": {},
   "source": [
    "# Pandasプロット (82 - 89)\n",
    "Pandasプロットの機能については以下のサイトの説明が分かりやすいです  \n",
    "[自調自考の旅](https://own-search-and-study.xyz/2016/08/03/pandas%E3%81%AEplot%E3%81%AE%E5%85%A8%E5%BC%95%E6%95%B0%E3%82%92%E4%BD%BF%E3%81%84%E3%81%93%E3%81%AA%E3%81%99/)"
   ]
  },
  {
   "cell_type": "code",
   "execution_count": null,
   "id": "1e5973ce",
   "metadata": {},
   "outputs": [],
   "source": [
    "# 【82】\n",
    "# dfのすべての数値列のヒストグラムを表示\n",
    "print(ans[82]) #回答表示\n",
    "df = initialize1() #初期化\n",
    "\n",
    "df.hist(figsize=(20,20), color='b')"
   ]
  },
  {
   "cell_type": "code",
   "execution_count": null,
   "id": "508080c3",
   "metadata": {},
   "outputs": [],
   "source": [
    "# 【83】\n",
    "# dfのage列をヒストグラムで表示\n",
    "print(ans[83]) #回答表示\n",
    "df = initialize1() #初期化\n",
    "\n",
    "df['age'].plot(kind='hist')"
   ]
  },
  {
   "cell_type": "code",
   "execution_count": null,
   "id": "85fb6b18",
   "metadata": {},
   "outputs": [],
   "source": [
    "# 【84】\n",
    "# df2のname列の要素ごとの3科目合計得点を棒グラフで表示\n",
    "print(ans[84]) #回答表示\n",
    "df2 = initialize2() #初期化\n",
    "\n",
    "df2['sum'] = df2.iloc[:,2:5].sum(axis=1) #3科目合計の列を作成\n",
    "df2[['name','sum']].plot(kind='bar',x=df2.columns[0])"
   ]
  },
  {
   "cell_type": "code",
   "execution_count": null,
   "id": "c77cca5d",
   "metadata": {},
   "outputs": [],
   "source": [
    "# 【85】\n",
    "# df2のname列の要素ごとの3科目を棒グラフで\n",
    "# 並べて表示\n",
    "print(ans[85]) #回答表示\n",
    "df2 = initialize2() #初期化\n",
    "\n",
    "df2[['name','English','Mathematics','History']].plot(kind='bar',figsize=(10,4),x=df2.columns[0])"
   ]
  },
  {
   "cell_type": "code",
   "execution_count": null,
   "id": "1345396e",
   "metadata": {},
   "outputs": [],
   "source": [
    "# 【86】\n",
    "# df2のname列の要素ごとの3科目を積み上げ棒グラフで表示\n",
    "print(ans[86]) #回答表示\n",
    "df2 = initialize2() #初期化\n",
    "\n",
    "df2[['name','English','Mathematics','History']].plot(kind='bar',figsize=(10,4),\n",
    "                                                    x=df2.columns[0],stacked=True)"
   ]
  },
  {
   "cell_type": "code",
   "execution_count": null,
   "id": "5bcae8bb",
   "metadata": {},
   "outputs": [],
   "source": [
    "# 【87】\n",
    "# dfの各列間の散布図を表示\n",
    "# (from pandas.plotting import scatter_matrixをインポート)\n",
    "print(ans[87]) #回答表示\n",
    "df = initialize1() #初期化\n",
    "\n",
    "%matplotlib inline\n",
    "from pandas.plotting import scatter_matrix\n",
    "\n",
    "_ = scatter_matrix(df,figsize=(20,20))"
   ]
  },
  {
   "cell_type": "code",
   "execution_count": null,
   "id": "d41b1e76",
   "metadata": {},
   "outputs": [],
   "source": [
    "# 【88】\n",
    "# dfのage列とfare列で散布図を作成\n",
    "print(ans[88]) #回答表示\n",
    "df = initialize1() #初期化\n",
    "\n",
    "df.plot(kind='scatter',x='age',y='fare',figsize=(8,6))"
   ]
  },
  {
   "cell_type": "code",
   "execution_count": null,
   "id": "54e5c8a7",
   "metadata": {},
   "outputs": [],
   "source": [
    "# 【89】\n",
    "# 【88】で描画したグラフに「age-fare scatter」という\n",
    "# グラフタイトルをつける\n",
    "print(ans[89]) #回答表示\n",
    "df = initialize1() #初期化\n",
    "\n",
    "df.plot(kind='scatter',x='age',y='fare',figsize=(8,6),title='age-fare scatter')"
   ]
  },
  {
   "cell_type": "markdown",
   "id": "927f951b",
   "metadata": {},
   "source": [
    "# タイタニック号の生存者予測 (90 - 100)  \n",
    "これまで触れてきたタイタニック号の乗客データを使用して、乗客の生存有無を  \n",
    "予測してみます。  \n",
    "  \n",
    "※90～100については順番通りにやらないと上手く動作しません"
   ]
  },
  {
   "cell_type": "code",
   "execution_count": null,
   "id": "35da87e4",
   "metadata": {},
   "outputs": [],
   "source": [
    "# 【90】ラベルエンコーディング\n",
    "# df_copyのsexとembarked列をラベルエンコーディング\n",
    "# (from sklearn.preprocessing import LabelEncoderをインポート)\n",
    "# (df_copyはdfをコピーしたもの)\n",
    "print(ans[90]) #回答表示\n",
    "df_copy =df.copy()\n",
    "\n",
    "from sklearn.preprocessing import LabelEncoder\n",
    "\n",
    "le = LabelEncoder() #ラベルエンコーダのインスタンスを作成\n",
    "\n",
    "df_copy['sex'] = le.fit_transform(df_copy['sex']) #エンコーディング\n",
    "df_copy['embarked'] = le.fit_transform(df_copy['embarked'].astype(str))  #ここ、なぜかstrに変換しないとエラー発生\n",
    "df_copy.head()"
   ]
  },
  {
   "cell_type": "code",
   "execution_count": null,
   "id": "c9c73ced",
   "metadata": {},
   "outputs": [],
   "source": [
    "# 【91】欠損値確認\n",
    "# df_copyの欠損値を確認\n",
    "print(ans[91]) #回答表示\n",
    "\n",
    "df_copy.isnull().sum()"
   ]
  },
  {
   "cell_type": "code",
   "execution_count": null,
   "id": "0190f006",
   "metadata": {},
   "outputs": [],
   "source": [
    "# 【92】欠損値補完\n",
    "# df_copyのage、fare列の欠損値を各列の平均値で補完\n",
    "print(ans[92]) #回答表示\n",
    "\n",
    "df_copy['age'] = df_copy['age'].fillna(df_copy['age'].mean()) #欠損値にageの平均値で補完\n",
    "df_copy['fare'] = df_copy['fare'].fillna(df_copy['fare'].mean()) #欠損値にfareの平均値で補完\n",
    "print(df_copy.isnull().sum())"
   ]
  },
  {
   "cell_type": "code",
   "execution_count": null,
   "id": "f7d768fa",
   "metadata": {},
   "outputs": [],
   "source": [
    "# 【93】不要列の削除\n",
    "# df_copyの中で機械学習で使用しない不要な行を削除\n",
    "# (name, ticket, cabin, boat, body, home.destを削除)\n",
    "print(ans[93]) #回答表示\n",
    "\n",
    "df_copy = df_copy.drop(['name', 'ticket', 'cabin', 'boat', 'body', 'home.dest'],axis=1)\n",
    "df_copy"
   ]
  },
  {
   "cell_type": "code",
   "execution_count": null,
   "id": "095b40ee",
   "metadata": {},
   "outputs": [],
   "source": [
    "# 【94】ndarray形式への変換\n",
    "# ①df_copyのpclass、age、sex、fare、embarkedの列を抽出し、ndarray形式に変換\n",
    "# ②df_copyのsurvivedの列を抽出し、ndarray形式に変換\n",
    "# (①をfeatures、②をtargetという変数にそれぞれ格納)\n",
    "print(ans[94]) #回答表示\n",
    "\n",
    "features = df_copy[['pclass','age','sex','fare','embarked']].values\n",
    "target = df_copy['survived'].values"
   ]
  },
  {
   "cell_type": "code",
   "execution_count": null,
   "id": "55c4281c",
   "metadata": {},
   "outputs": [],
   "source": [
    "# 【95】学習データとテストデータに分割\n",
    "# 【94】で作成したfeatrues、targetを学習データとテストデータに分割\n",
    "# (from sklearn.model_selection import  train_test_splitをインポート)\n",
    "# ※分割時のパラメータは次を指定 test_size=0.3 random_state=0\n",
    "print(ans[95]) #回答表示\n",
    "\n",
    "from sklearn.model_selection import train_test_split\n",
    "\n",
    "(features , test_X , target , test_y) = train_test_split(features, target , test_size = 0.3 , random_state = 0)"
   ]
  },
  {
   "cell_type": "code",
   "execution_count": null,
   "id": "c59a486c",
   "metadata": {},
   "outputs": [],
   "source": [
    "# 【96】学習の実行\n",
    "# 学習データ(features、target)を用いランダムフォレストにて学習を実行\n",
    "# (from sklearn.ensemble import RandomForestClassifierをインポート)\n",
    "# ※パラメータは次を指定 n_estimators=100 random_state=0\n",
    "print(ans[96]) #回答表示\n",
    "\n",
    "from sklearn.ensemble import RandomForestClassifier\n",
    "\n",
    "model = RandomForestClassifier(n_estimators=100,random_state=0) # ランダムフォレストのインスタンスを作成\n",
    "\n",
    "model.fit(features,target) # 学習の実行"
   ]
  },
  {
   "cell_type": "code",
   "execution_count": null,
   "id": "bc883e70",
   "metadata": {},
   "outputs": [],
   "source": [
    "# 【97】予測の実行\n",
    "# test_Xデータの乗客の生存を予測\n",
    "print(ans[97]) #回答表示\n",
    "\n",
    "pred = model.predict(test_X)"
   ]
  },
  {
   "cell_type": "code",
   "execution_count": null,
   "id": "aa6097ae",
   "metadata": {},
   "outputs": [],
   "source": [
    "# 【98】予測精度の確認\n",
    "# 予測結果がtest_y(生存有無の答え)とどれぐらい\n",
    "# 整合していたかを確認(評価指標はaccuracy)\n",
    "# (from sklearn.metrics import accuracy_scoreをインポート)\n",
    "print(ans[98]) #回答表示\n",
    "\n",
    "from sklearn.metrics import accuracy_score\n",
    "\n",
    "accuracy_score(pred,test_y)"
   ]
  },
  {
   "cell_type": "code",
   "execution_count": null,
   "id": "e68a7635",
   "metadata": {},
   "outputs": [],
   "source": [
    "# 【99】重要度の確認\n",
    "# 学習における各列(特徴量)の\n",
    "# 重要度を表示\n",
    "print(ans[99]) #回答表示\n",
    "\n",
    "importance = model.feature_importances_ \n",
    "\n",
    "print('Feature Importances:')\n",
    "for i, feat in enumerate(['pclass','age','sex','fare','embarked']):\n",
    "    print('\\t{0:20s} : {1:>.5f}'.format(feat, importance[i]))"
   ]
  },
  {
   "cell_type": "code",
   "execution_count": null,
   "id": "59c17036",
   "metadata": {},
   "outputs": [],
   "source": [
    "# 【100】予測結果のcsv出力\n",
    "# test_Xの予測結果をcsvでoutputフォルダに出力(ファイル名は「submission.csv」)\n",
    "# (headerは不要)\n",
    "print(ans[100]) #回答表示\n",
    "\n",
    "df_pred = pd.DataFrame(pred)\n",
    "df_pred.to_csv('../output/submission.csv',header=None)"
   ]
  },
  {
   "cell_type": "markdown",
   "id": "b0ad33a9",
   "metadata": {},
   "source": [
    "# ノックお疲れ様でした\n",
    "各セルのoutput表示をすべてクリアにしたい場合は、ツールバーの  \n",
    "「Kernel」→「Restart & Clear Output」を実行して下さい。"
   ]
  }
 ],
 "metadata": {
  "kernelspec": {
   "display_name": "Python 3 (ipykernel)",
   "language": "python",
   "name": "python3"
  },
  "language_info": {
   "codemirror_mode": {
    "name": "ipython",
    "version": 3
   },
   "file_extension": ".py",
   "mimetype": "text/x-python",
   "name": "python",
   "nbconvert_exporter": "python",
   "pygments_lexer": "ipython3",
   "version": "3.12.3"
  }
 },
 "nbformat": 4,
 "nbformat_minor": 5
}

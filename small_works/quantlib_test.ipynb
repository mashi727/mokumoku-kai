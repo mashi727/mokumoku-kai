{
    "cells": [
        {
            "cell_type": "code",
            "execution_count": 1,
            "metadata": {
                "trusted": true
            },
            "outputs": [
                {
                    "ename": "NameError",
                    "evalue": "name 'm' is not defined",
                    "output_type": "error",
                    "traceback": [
                        "\u001b[0;31m---------------------------------------------------------------------------\u001b[0m",
                        "\u001b[0;31mNameError\u001b[0m                                 Traceback (most recent call last)",
                        "Cell \u001b[0;32mIn[1], line 5\u001b[0m\n\u001b[1;32m      2\u001b[0m \u001b[38;5;28;01mimport\u001b[39;00m \u001b[38;5;21;01mQuantLib\u001b[39;00m \u001b[38;5;28;01mas\u001b[39;00m \u001b[38;5;21;01mql\u001b[39;00m\n\u001b[1;32m      3\u001b[0m \u001b[38;5;28;01mimport\u001b[39;00m \u001b[38;5;21;01mmath\u001b[39;00m\n\u001b[0;32m----> 5\u001b[0m calendar \u001b[38;5;241m=\u001b[39m ql\u001b[38;5;241m.\u001b[39mUnitedStates(\u001b[43mm\u001b[49m)\n\u001b[1;32m      6\u001b[0m day_count \u001b[38;5;241m=\u001b[39m ql\u001b[38;5;241m.\u001b[39mActualActual()\n\u001b[1;32m      8\u001b[0m \u001b[38;5;66;03m# \u8a2d\u5b9a\u001b[39;00m\n",
                        "\u001b[0;31mNameError\u001b[0m: name 'm' is not defined"
                    ]
                }
            ],
            "source": "from datetime import date\nimport QuantLib as ql\nimport math\n\ncalendar = ql.UnitedStates(m)\nday_count = ql.ActualActual()\n\n# \u8a2d\u5b9a\nspot       = 3378.5     # \u539f\u8cc7\u7523\u4fa1\u683c\nstrike     = 3370.0     # \u6a29\u5229\u884c\u4f7f\u4fa1\u683c\nvolatility = 0.22635875427740032  #\u30dc\u30e9\u30c6\u30a3\u30ea\u30c6\u30a3\nrate       = 0.670   # \u91d1\u5229\uff08\u30ea\u30b9\u30af\u30d5\u30ea\u30fc\u30ec\u30fc\u30c8\uff09\uff0a\u30d1\u30fc\u30bb\u30f3\u30c8\nnow_date   = date(2020,  8, 19)\nlast_date  = date(2020, 12, 18) # \u6e80\u671f\u65e5\n\n# \u5909\u63db\ninterest_rate = rate / 100\ncalc_date = ql.Date(now_date.day, now_date.month, now_date.year)\noption_maturity_date = ql.Date(last_date.day, last_date.month, last_date.year) \n\nql.Settings.instance().evaluationDate = calc_date\n\nflavor = ql.Option.Call\n\nyield_curve = ql.FlatForward(calc_date, \n                             interest_rate,\n                             day_count,\n                             ql.Compounded,\n                             ql.Continuous)\n\ndiscount = yield_curve.discount(option_maturity_date)\nstrikepayoff = ql.PlainVanillaPayoff(flavor, strike)\nT = yield_curve.dayCounter().yearFraction(calc_date, option_maturity_date) # \u6e80\u671f\u307e\u3067\u306e\u671f\u9593\uff08\u5e74\uff09\nstddev = volatility*math.sqrt(T)\n\n# \u7b97\u51fa\nblack = ql.BlackCalculator(strikepayoff, \n                           spot, \n                           stddev, \n                           discount)\n\nprint(\"%-20s: %4.4f\" %(\"Option Price\", black.value() ))\nprint(\"%-20s: %4.4f\" %(\"Delta\", black.delta(spot) ))\nprint(\"%-20s: %4.4f\" %(\"Gamma\", black.gamma(spot) ))\nprint(\"%-20s: %4.4f\" %(\"Theta\", black.theta(spot, T) ))\nprint(\"%-20s: %4.4f\" %(\"Vega\", black.vega(T) ))\nprint(\"%-20s: %4.4f\" %(\"Rho\", black.rho( T) ))\n\n# Option Price        : 178.9641\n# Delta               : 0.5325\n# Gamma               : 0.0009\n# Theta               : -262.5823\n# Vega                : 770.5092\n# Rho                 : 535.5627"
        },
        {
            "cell_type": "code",
            "execution_count": null,
            "metadata": {
                "trusted": true
            },
            "outputs": [],
            "source": ""
        }
    ],
    "metadata": {
        "kernelspec": {
            "display_name": "Python 3 (ipykernel)",
            "language": "python",
            "name": "python3"
        },
        "language_info": {
            "codemirror_mode": {
                "name": "ipython",
                "version": 3
            },
            "file_extension": ".py",
            "mimetype": "text/x-python",
            "name": "python",
            "nbconvert_exporter": "python",
            "pygments_lexer": "ipython3",
            "version": "3.11.7"
        }
    },
    "nbformat": 4,
    "nbformat_minor": 5
}
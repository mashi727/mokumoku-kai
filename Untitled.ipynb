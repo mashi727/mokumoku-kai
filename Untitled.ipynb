{
 "cells": [
  {
   "cell_type": "code",
   "execution_count": 11,
   "id": "3592896b",
   "metadata": {},
   "outputs": [
    {
     "ename": "NameError",
     "evalue": "name 'm' is not defined",
     "output_type": "error",
     "traceback": [
      "\u001b[0;31m---------------------------------------------------------------------------\u001b[0m",
      "\u001b[0;31mNameError\u001b[0m                                 Traceback (most recent call last)",
      "Cell \u001b[0;32mIn[11], line 5\u001b[0m\n\u001b[1;32m      2\u001b[0m \u001b[38;5;28;01mimport\u001b[39;00m \u001b[38;5;21;01mQuantLib\u001b[39;00m \u001b[38;5;28;01mas\u001b[39;00m \u001b[38;5;21;01mql\u001b[39;00m\n\u001b[1;32m      3\u001b[0m \u001b[38;5;28;01mimport\u001b[39;00m \u001b[38;5;21;01mmath\u001b[39;00m\n\u001b[0;32m----> 5\u001b[0m calendar \u001b[38;5;241m=\u001b[39m ql\u001b[38;5;241m.\u001b[39mUnitedStates(\u001b[43mm\u001b[49m)\n\u001b[1;32m      6\u001b[0m day_count \u001b[38;5;241m=\u001b[39m ql\u001b[38;5;241m.\u001b[39mActualActual()\n\u001b[1;32m      8\u001b[0m \u001b[38;5;66;03m# 設定\u001b[39;00m\n",
      "\u001b[0;31mNameError\u001b[0m: name 'm' is not defined"
     ]
    }
   ],
   "source": [
    "from datetime import date\n",
    "import QuantLib as ql\n",
    "import math\n",
    "\n",
    "calendar = ql.UnitedStates(m)\n",
    "day_count = ql.ActualActual()\n",
    "\n",
    "# 設定\n",
    "spot       = 3378.5     # 原資産価格\n",
    "strike     = 3370.0     # 権利行使価格\n",
    "volatility = 0.22635875427740032  #ボラティリティ\n",
    "rate       = 0.670   # 金利（リスクフリーレート）＊パーセント\n",
    "now_date   = date(2020,  8, 19)\n",
    "last_date  = date(2020, 12, 18) # 満期日\n",
    "\n",
    "# 変換\n",
    "interest_rate = rate / 100\n",
    "calc_date = ql.Date(now_date.day, now_date.month, now_date.year)\n",
    "option_maturity_date = ql.Date(last_date.day, last_date.month, last_date.year) \n",
    "\n",
    "ql.Settings.instance().evaluationDate = calc_date\n",
    "\n",
    "flavor = ql.Option.Call\n",
    "\n",
    "yield_curve = ql.FlatForward(calc_date, \n",
    "                             interest_rate,\n",
    "                             day_count,\n",
    "                             ql.Compounded,\n",
    "                             ql.Continuous)\n",
    "\n",
    "discount = yield_curve.discount(option_maturity_date)\n",
    "strikepayoff = ql.PlainVanillaPayoff(flavor, strike)\n",
    "T = yield_curve.dayCounter().yearFraction(calc_date, option_maturity_date) # 満期までの期間（年）\n",
    "stddev = volatility*math.sqrt(T)\n",
    "\n",
    "# 算出\n",
    "black = ql.BlackCalculator(strikepayoff, \n",
    "                           spot, \n",
    "                           stddev, \n",
    "                           discount)\n",
    "\n",
    "print(\"%-20s: %4.4f\" %(\"Option Price\", black.value() ))\n",
    "print(\"%-20s: %4.4f\" %(\"Delta\", black.delta(spot) ))\n",
    "print(\"%-20s: %4.4f\" %(\"Gamma\", black.gamma(spot) ))\n",
    "print(\"%-20s: %4.4f\" %(\"Theta\", black.theta(spot, T) ))\n",
    "print(\"%-20s: %4.4f\" %(\"Vega\", black.vega(T) ))\n",
    "print(\"%-20s: %4.4f\" %(\"Rho\", black.rho( T) ))\n",
    "\n",
    "# Option Price        : 178.9641\n",
    "# Delta               : 0.5325\n",
    "# Gamma               : 0.0009\n",
    "# Theta               : -262.5823\n",
    "# Vega                : 770.5092\n",
    "# Rho                 : 535.5627"
   ]
  },
  {
   "cell_type": "code",
   "execution_count": null,
   "id": "413bf983",
   "metadata": {},
   "outputs": [],
   "source": []
  }
 ],
 "metadata": {
  "kernelspec": {
   "display_name": "Python 3 (ipykernel)",
   "language": "python",
   "name": "python3"
  },
  "language_info": {
   "codemirror_mode": {
    "name": "ipython",
    "version": 3
   },
   "file_extension": ".py",
   "mimetype": "text/x-python",
   "name": "python",
   "nbconvert_exporter": "python",
   "pygments_lexer": "ipython3",
   "version": "3.11.7"
  }
 },
 "nbformat": 4,
 "nbformat_minor": 5
}
